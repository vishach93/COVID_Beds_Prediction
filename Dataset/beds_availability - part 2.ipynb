{
 "cells": [
  {
   "cell_type": "code",
   "execution_count": 3,
   "metadata": {},
   "outputs": [],
   "source": [
    "import pandas as pd\n",
    "import numpy as np\n",
    "import seaborn as sns\n",
    "import matplotlib.pyplot as plt\n",
    "%matplotlib inline\n",
    "\n",
    "from statsmodels.tsa.statespace.sarimax import SARIMAX\n",
    "\n",
    "from statsmodels.graphics.tsaplots import plot_acf,plot_pacf\n",
    "from statsmodels.tsa.seasonal import seasonal_decompose      # for ETS Plots\n",
    "from pmdarima import auto_arima\n",
    "from statsmodels.tsa.arima_model import ARMA,ARMAResults,ARIMA,ARIMAResults\n",
    "\n",
    "import statsmodels.api as sm\n",
    "from statsmodels.tsa.holtwinters import SimpleExpSmoothing\n",
    "from statsmodels.tsa.holtwinters import Holt \n",
    "from statsmodels.tsa.holtwinters import ExponentialSmoothing \n",
    "import statsmodels.graphics.tsaplots as tsa_plots\n",
    "from statsmodels.tsa.ar_model import AutoReg\n",
    "from datetime import datetime,time\n",
    "\n",
    "from statsmodels.tools.eval_measures import mse,rmse\n",
    "\n",
    "from statsmodels.tsa.stattools import adfuller\n",
    "\n",
    "import warnings\n",
    "warnings.filterwarnings(\"ignore\")"
   ]
  },
  {
   "cell_type": "code",
   "execution_count": 4,
   "metadata": {},
   "outputs": [],
   "source": [
    "def adf_test(series,title=''):\n",
    "    \n",
    " #   Pass in a time series and an optional title, returns an ADF report\n",
    "    \n",
    "    print(f'Augmented Dickey-Fuller Test: {title}')\n",
    "    result = adfuller(series.dropna(),autolag='AIC') # .dropna() handles differenced data\n",
    "    \n",
    "    labels = ['ADF test statistic','p-value','# lags used','# observations']\n",
    "    out = pd.Series(result[0:4],index=labels)\n",
    "\n",
    "    for key,val in result[4].items():\n",
    "        out[f'critical value ({key})']=val\n",
    "        \n",
    "    print(out.to_string())          # .to_string() removes the line \"dtype: float64\"\n",
    "    \n",
    "    if result[1] <= 0.05:\n",
    "        print(\"Strong evidence against the null hypothesis\")\n",
    "        print(\"Reject the null hypothesis\")\n",
    "        print(\"Data has no unit root and is stationary\")\n",
    "    else:\n",
    "        print(\"Weak evidence against the null hypothesis\")\n",
    "        print(\"Fail to reject the null hypothesis\")\n",
    "        print(\"Data has a unit root and is non-stationary\")"
   ]
  },
  {
   "cell_type": "code",
   "execution_count": 5,
   "metadata": {
    "scrolled": true
   },
   "outputs": [
    {
     "data": {
      "text/html": [
       "<div>\n",
       "<style scoped>\n",
       "    .dataframe tbody tr th:only-of-type {\n",
       "        vertical-align: middle;\n",
       "    }\n",
       "\n",
       "    .dataframe tbody tr th {\n",
       "        vertical-align: top;\n",
       "    }\n",
       "\n",
       "    .dataframe thead th {\n",
       "        text-align: right;\n",
       "    }\n",
       "</style>\n",
       "<table border=\"1\" class=\"dataframe\">\n",
       "  <thead>\n",
       "    <tr style=\"text-align: right;\">\n",
       "      <th></th>\n",
       "      <th>collection_date</th>\n",
       "      <th>Total Inpatient Beds</th>\n",
       "    </tr>\n",
       "  </thead>\n",
       "  <tbody>\n",
       "    <tr>\n",
       "      <th>0</th>\n",
       "      <td>15-06-2020</td>\n",
       "      <td>293</td>\n",
       "    </tr>\n",
       "    <tr>\n",
       "      <th>1</th>\n",
       "      <td>16-06-2020</td>\n",
       "      <td>295</td>\n",
       "    </tr>\n",
       "    <tr>\n",
       "      <th>2</th>\n",
       "      <td>17-06-2020</td>\n",
       "      <td>290</td>\n",
       "    </tr>\n",
       "    <tr>\n",
       "      <th>3</th>\n",
       "      <td>18-06-2020</td>\n",
       "      <td>291</td>\n",
       "    </tr>\n",
       "    <tr>\n",
       "      <th>4</th>\n",
       "      <td>19-06-2020</td>\n",
       "      <td>288</td>\n",
       "    </tr>\n",
       "    <tr>\n",
       "      <th>5</th>\n",
       "      <td>20-06-2020</td>\n",
       "      <td>289</td>\n",
       "    </tr>\n",
       "    <tr>\n",
       "      <th>6</th>\n",
       "      <td>21-06-2020</td>\n",
       "      <td>277</td>\n",
       "    </tr>\n",
       "    <tr>\n",
       "      <th>7</th>\n",
       "      <td>22-06-2020</td>\n",
       "      <td>289</td>\n",
       "    </tr>\n",
       "    <tr>\n",
       "      <th>8</th>\n",
       "      <td>23-06-2020</td>\n",
       "      <td>292</td>\n",
       "    </tr>\n",
       "    <tr>\n",
       "      <th>9</th>\n",
       "      <td>24-06-2020</td>\n",
       "      <td>293</td>\n",
       "    </tr>\n",
       "    <tr>\n",
       "      <th>10</th>\n",
       "      <td>25-06-2020</td>\n",
       "      <td>291</td>\n",
       "    </tr>\n",
       "    <tr>\n",
       "      <th>11</th>\n",
       "      <td>26-06-2020</td>\n",
       "      <td>282</td>\n",
       "    </tr>\n",
       "    <tr>\n",
       "      <th>12</th>\n",
       "      <td>27-06-2020</td>\n",
       "      <td>283</td>\n",
       "    </tr>\n",
       "    <tr>\n",
       "      <th>13</th>\n",
       "      <td>28-06-2020</td>\n",
       "      <td>284</td>\n",
       "    </tr>\n",
       "    <tr>\n",
       "      <th>14</th>\n",
       "      <td>29-06-2020</td>\n",
       "      <td>194</td>\n",
       "    </tr>\n",
       "    <tr>\n",
       "      <th>15</th>\n",
       "      <td>30-06-2020</td>\n",
       "      <td>292</td>\n",
       "    </tr>\n",
       "    <tr>\n",
       "      <th>16</th>\n",
       "      <td>01-07-2020</td>\n",
       "      <td>275</td>\n",
       "    </tr>\n",
       "    <tr>\n",
       "      <th>17</th>\n",
       "      <td>02-07-2020</td>\n",
       "      <td>290</td>\n",
       "    </tr>\n",
       "    <tr>\n",
       "      <th>18</th>\n",
       "      <td>03-07-2020</td>\n",
       "      <td>287</td>\n",
       "    </tr>\n",
       "    <tr>\n",
       "      <th>19</th>\n",
       "      <td>04-07-2020</td>\n",
       "      <td>283</td>\n",
       "    </tr>\n",
       "    <tr>\n",
       "      <th>20</th>\n",
       "      <td>05-07-2020</td>\n",
       "      <td>282</td>\n",
       "    </tr>\n",
       "    <tr>\n",
       "      <th>21</th>\n",
       "      <td>06-07-2020</td>\n",
       "      <td>284</td>\n",
       "    </tr>\n",
       "    <tr>\n",
       "      <th>22</th>\n",
       "      <td>07-07-2020</td>\n",
       "      <td>291</td>\n",
       "    </tr>\n",
       "    <tr>\n",
       "      <th>23</th>\n",
       "      <td>08-07-2020</td>\n",
       "      <td>292</td>\n",
       "    </tr>\n",
       "    <tr>\n",
       "      <th>24</th>\n",
       "      <td>09-07-2020</td>\n",
       "      <td>294</td>\n",
       "    </tr>\n",
       "    <tr>\n",
       "      <th>25</th>\n",
       "      <td>10-07-2020</td>\n",
       "      <td>287</td>\n",
       "    </tr>\n",
       "    <tr>\n",
       "      <th>26</th>\n",
       "      <td>11-07-2020</td>\n",
       "      <td>284</td>\n",
       "    </tr>\n",
       "    <tr>\n",
       "      <th>27</th>\n",
       "      <td>12-07-2020</td>\n",
       "      <td>282</td>\n",
       "    </tr>\n",
       "    <tr>\n",
       "      <th>28</th>\n",
       "      <td>13-07-2020</td>\n",
       "      <td>292</td>\n",
       "    </tr>\n",
       "    <tr>\n",
       "      <th>29</th>\n",
       "      <td>14-07-2020</td>\n",
       "      <td>292</td>\n",
       "    </tr>\n",
       "  </tbody>\n",
       "</table>\n",
       "</div>"
      ],
      "text/plain": [
       "   collection_date  Total Inpatient Beds\n",
       "0       15-06-2020                   293\n",
       "1       16-06-2020                   295\n",
       "2       17-06-2020                   290\n",
       "3       18-06-2020                   291\n",
       "4       19-06-2020                   288\n",
       "5       20-06-2020                   289\n",
       "6       21-06-2020                   277\n",
       "7       22-06-2020                   289\n",
       "8       23-06-2020                   292\n",
       "9       24-06-2020                   293\n",
       "10      25-06-2020                   291\n",
       "11      26-06-2020                   282\n",
       "12      27-06-2020                   283\n",
       "13      28-06-2020                   284\n",
       "14      29-06-2020                   194\n",
       "15      30-06-2020                   292\n",
       "16      01-07-2020                   275\n",
       "17      02-07-2020                   290\n",
       "18      03-07-2020                   287\n",
       "19      04-07-2020                   283\n",
       "20      05-07-2020                   282\n",
       "21      06-07-2020                   284\n",
       "22      07-07-2020                   291\n",
       "23      08-07-2020                   292\n",
       "24      09-07-2020                   294\n",
       "25      10-07-2020                   287\n",
       "26      11-07-2020                   284\n",
       "27      12-07-2020                   282\n",
       "28      13-07-2020                   292\n",
       "29      14-07-2020                   292"
      ]
     },
     "execution_count": 5,
     "metadata": {},
     "output_type": "execute_result"
    }
   ],
   "source": [
    "df = pd.read_csv('Beds_Occupied - Beds_Occupied.csv',parse_dates=True)\n",
    "df.head(30)"
   ]
  },
  {
   "cell_type": "code",
   "execution_count": 6,
   "metadata": {
    "scrolled": true
   },
   "outputs": [
    {
     "data": {
      "text/plain": [
       "collection_date         object\n",
       "Total Inpatient Beds     int64\n",
       "dtype: object"
      ]
     },
     "execution_count": 6,
     "metadata": {},
     "output_type": "execute_result"
    }
   ],
   "source": [
    "df.dtypes"
   ]
  },
  {
   "cell_type": "code",
   "execution_count": 7,
   "metadata": {},
   "outputs": [],
   "source": [
    "df['collection_date'] = pd.to_datetime(df['collection_date'],format='%d-%m-%Y')"
   ]
  },
  {
   "cell_type": "code",
   "execution_count": 8,
   "metadata": {},
   "outputs": [
    {
     "data": {
      "text/html": [
       "<div>\n",
       "<style scoped>\n",
       "    .dataframe tbody tr th:only-of-type {\n",
       "        vertical-align: middle;\n",
       "    }\n",
       "\n",
       "    .dataframe tbody tr th {\n",
       "        vertical-align: top;\n",
       "    }\n",
       "\n",
       "    .dataframe thead th {\n",
       "        text-align: right;\n",
       "    }\n",
       "</style>\n",
       "<table border=\"1\" class=\"dataframe\">\n",
       "  <thead>\n",
       "    <tr style=\"text-align: right;\">\n",
       "      <th></th>\n",
       "      <th>collection_date</th>\n",
       "      <th>Total Inpatient Beds</th>\n",
       "    </tr>\n",
       "  </thead>\n",
       "  <tbody>\n",
       "    <tr>\n",
       "      <th>0</th>\n",
       "      <td>2020-06-15</td>\n",
       "      <td>293</td>\n",
       "    </tr>\n",
       "    <tr>\n",
       "      <th>1</th>\n",
       "      <td>2020-06-16</td>\n",
       "      <td>295</td>\n",
       "    </tr>\n",
       "    <tr>\n",
       "      <th>2</th>\n",
       "      <td>2020-06-17</td>\n",
       "      <td>290</td>\n",
       "    </tr>\n",
       "    <tr>\n",
       "      <th>3</th>\n",
       "      <td>2020-06-18</td>\n",
       "      <td>291</td>\n",
       "    </tr>\n",
       "    <tr>\n",
       "      <th>4</th>\n",
       "      <td>2020-06-19</td>\n",
       "      <td>288</td>\n",
       "    </tr>\n",
       "    <tr>\n",
       "      <th>5</th>\n",
       "      <td>2020-06-20</td>\n",
       "      <td>289</td>\n",
       "    </tr>\n",
       "    <tr>\n",
       "      <th>6</th>\n",
       "      <td>2020-06-21</td>\n",
       "      <td>277</td>\n",
       "    </tr>\n",
       "    <tr>\n",
       "      <th>7</th>\n",
       "      <td>2020-06-22</td>\n",
       "      <td>289</td>\n",
       "    </tr>\n",
       "    <tr>\n",
       "      <th>8</th>\n",
       "      <td>2020-06-23</td>\n",
       "      <td>292</td>\n",
       "    </tr>\n",
       "    <tr>\n",
       "      <th>9</th>\n",
       "      <td>2020-06-24</td>\n",
       "      <td>293</td>\n",
       "    </tr>\n",
       "    <tr>\n",
       "      <th>10</th>\n",
       "      <td>2020-06-25</td>\n",
       "      <td>291</td>\n",
       "    </tr>\n",
       "    <tr>\n",
       "      <th>11</th>\n",
       "      <td>2020-06-26</td>\n",
       "      <td>282</td>\n",
       "    </tr>\n",
       "    <tr>\n",
       "      <th>12</th>\n",
       "      <td>2020-06-27</td>\n",
       "      <td>283</td>\n",
       "    </tr>\n",
       "    <tr>\n",
       "      <th>13</th>\n",
       "      <td>2020-06-28</td>\n",
       "      <td>284</td>\n",
       "    </tr>\n",
       "    <tr>\n",
       "      <th>14</th>\n",
       "      <td>2020-06-29</td>\n",
       "      <td>194</td>\n",
       "    </tr>\n",
       "    <tr>\n",
       "      <th>15</th>\n",
       "      <td>2020-06-30</td>\n",
       "      <td>292</td>\n",
       "    </tr>\n",
       "    <tr>\n",
       "      <th>16</th>\n",
       "      <td>2020-07-01</td>\n",
       "      <td>275</td>\n",
       "    </tr>\n",
       "    <tr>\n",
       "      <th>17</th>\n",
       "      <td>2020-07-02</td>\n",
       "      <td>290</td>\n",
       "    </tr>\n",
       "    <tr>\n",
       "      <th>18</th>\n",
       "      <td>2020-07-03</td>\n",
       "      <td>287</td>\n",
       "    </tr>\n",
       "    <tr>\n",
       "      <th>19</th>\n",
       "      <td>2020-07-04</td>\n",
       "      <td>283</td>\n",
       "    </tr>\n",
       "    <tr>\n",
       "      <th>20</th>\n",
       "      <td>2020-07-05</td>\n",
       "      <td>282</td>\n",
       "    </tr>\n",
       "    <tr>\n",
       "      <th>21</th>\n",
       "      <td>2020-07-06</td>\n",
       "      <td>284</td>\n",
       "    </tr>\n",
       "    <tr>\n",
       "      <th>22</th>\n",
       "      <td>2020-07-07</td>\n",
       "      <td>291</td>\n",
       "    </tr>\n",
       "    <tr>\n",
       "      <th>23</th>\n",
       "      <td>2020-07-08</td>\n",
       "      <td>292</td>\n",
       "    </tr>\n",
       "    <tr>\n",
       "      <th>24</th>\n",
       "      <td>2020-07-09</td>\n",
       "      <td>294</td>\n",
       "    </tr>\n",
       "    <tr>\n",
       "      <th>25</th>\n",
       "      <td>2020-07-10</td>\n",
       "      <td>287</td>\n",
       "    </tr>\n",
       "    <tr>\n",
       "      <th>26</th>\n",
       "      <td>2020-07-11</td>\n",
       "      <td>284</td>\n",
       "    </tr>\n",
       "    <tr>\n",
       "      <th>27</th>\n",
       "      <td>2020-07-12</td>\n",
       "      <td>282</td>\n",
       "    </tr>\n",
       "    <tr>\n",
       "      <th>28</th>\n",
       "      <td>2020-07-13</td>\n",
       "      <td>292</td>\n",
       "    </tr>\n",
       "    <tr>\n",
       "      <th>29</th>\n",
       "      <td>2020-07-14</td>\n",
       "      <td>292</td>\n",
       "    </tr>\n",
       "  </tbody>\n",
       "</table>\n",
       "</div>"
      ],
      "text/plain": [
       "   collection_date  Total Inpatient Beds\n",
       "0       2020-06-15                   293\n",
       "1       2020-06-16                   295\n",
       "2       2020-06-17                   290\n",
       "3       2020-06-18                   291\n",
       "4       2020-06-19                   288\n",
       "5       2020-06-20                   289\n",
       "6       2020-06-21                   277\n",
       "7       2020-06-22                   289\n",
       "8       2020-06-23                   292\n",
       "9       2020-06-24                   293\n",
       "10      2020-06-25                   291\n",
       "11      2020-06-26                   282\n",
       "12      2020-06-27                   283\n",
       "13      2020-06-28                   284\n",
       "14      2020-06-29                   194\n",
       "15      2020-06-30                   292\n",
       "16      2020-07-01                   275\n",
       "17      2020-07-02                   290\n",
       "18      2020-07-03                   287\n",
       "19      2020-07-04                   283\n",
       "20      2020-07-05                   282\n",
       "21      2020-07-06                   284\n",
       "22      2020-07-07                   291\n",
       "23      2020-07-08                   292\n",
       "24      2020-07-09                   294\n",
       "25      2020-07-10                   287\n",
       "26      2020-07-11                   284\n",
       "27      2020-07-12                   282\n",
       "28      2020-07-13                   292\n",
       "29      2020-07-14                   292"
      ]
     },
     "execution_count": 8,
     "metadata": {},
     "output_type": "execute_result"
    }
   ],
   "source": [
    "df.head(30)"
   ]
  },
  {
   "cell_type": "code",
   "execution_count": 9,
   "metadata": {},
   "outputs": [
    {
     "data": {
      "text/plain": [
       "collection_date         datetime64[ns]\n",
       "Total Inpatient Beds             int64\n",
       "dtype: object"
      ]
     },
     "execution_count": 9,
     "metadata": {},
     "output_type": "execute_result"
    }
   ],
   "source": [
    "df.dtypes"
   ]
  },
  {
   "cell_type": "code",
   "execution_count": 10,
   "metadata": {},
   "outputs": [],
   "source": [
    "df.index = df['collection_date']"
   ]
  },
  {
   "cell_type": "code",
   "execution_count": 11,
   "metadata": {},
   "outputs": [],
   "source": [
    "df = df.asfreq('d')"
   ]
  },
  {
   "cell_type": "code",
   "execution_count": 12,
   "metadata": {},
   "outputs": [],
   "source": [
    "df.drop('collection_date',inplace=True,axis=1)"
   ]
  },
  {
   "cell_type": "code",
   "execution_count": 13,
   "metadata": {
    "scrolled": true
   },
   "outputs": [
    {
     "data": {
      "text/plain": [
       "Total Inpatient Beds    7\n",
       "dtype: int64"
      ]
     },
     "execution_count": 13,
     "metadata": {},
     "output_type": "execute_result"
    }
   ],
   "source": [
    "df.isnull().sum()"
   ]
  },
  {
   "cell_type": "code",
   "execution_count": 14,
   "metadata": {},
   "outputs": [],
   "source": [
    "null_data = df[df.isnull().any(axis=1)]"
   ]
  },
  {
   "cell_type": "code",
   "execution_count": 15,
   "metadata": {},
   "outputs": [
    {
     "data": {
      "text/html": [
       "<div>\n",
       "<style scoped>\n",
       "    .dataframe tbody tr th:only-of-type {\n",
       "        vertical-align: middle;\n",
       "    }\n",
       "\n",
       "    .dataframe tbody tr th {\n",
       "        vertical-align: top;\n",
       "    }\n",
       "\n",
       "    .dataframe thead th {\n",
       "        text-align: right;\n",
       "    }\n",
       "</style>\n",
       "<table border=\"1\" class=\"dataframe\">\n",
       "  <thead>\n",
       "    <tr style=\"text-align: right;\">\n",
       "      <th></th>\n",
       "      <th>Total Inpatient Beds</th>\n",
       "    </tr>\n",
       "    <tr>\n",
       "      <th>collection_date</th>\n",
       "      <th></th>\n",
       "    </tr>\n",
       "  </thead>\n",
       "  <tbody>\n",
       "    <tr>\n",
       "      <th>2020-11-26</th>\n",
       "      <td>NaN</td>\n",
       "    </tr>\n",
       "    <tr>\n",
       "      <th>2020-11-27</th>\n",
       "      <td>NaN</td>\n",
       "    </tr>\n",
       "    <tr>\n",
       "      <th>2020-11-28</th>\n",
       "      <td>NaN</td>\n",
       "    </tr>\n",
       "    <tr>\n",
       "      <th>2020-11-29</th>\n",
       "      <td>NaN</td>\n",
       "    </tr>\n",
       "    <tr>\n",
       "      <th>2021-05-14</th>\n",
       "      <td>NaN</td>\n",
       "    </tr>\n",
       "    <tr>\n",
       "      <th>2021-05-15</th>\n",
       "      <td>NaN</td>\n",
       "    </tr>\n",
       "    <tr>\n",
       "      <th>2021-05-16</th>\n",
       "      <td>NaN</td>\n",
       "    </tr>\n",
       "  </tbody>\n",
       "</table>\n",
       "</div>"
      ],
      "text/plain": [
       "                 Total Inpatient Beds\n",
       "collection_date                      \n",
       "2020-11-26                        NaN\n",
       "2020-11-27                        NaN\n",
       "2020-11-28                        NaN\n",
       "2020-11-29                        NaN\n",
       "2021-05-14                        NaN\n",
       "2021-05-15                        NaN\n",
       "2021-05-16                        NaN"
      ]
     },
     "execution_count": 15,
     "metadata": {},
     "output_type": "execute_result"
    }
   ],
   "source": [
    "null_data"
   ]
  },
  {
   "cell_type": "code",
   "execution_count": 16,
   "metadata": {},
   "outputs": [],
   "source": [
    "span = 14\n",
    "alpha = 2/(span+1)\n",
    "\n",
    "df['EWMA'] = df['Total Inpatient Beds'].ewm(alpha=alpha,adjust=False).mean()"
   ]
  },
  {
   "cell_type": "code",
   "execution_count": 17,
   "metadata": {},
   "outputs": [
    {
     "data": {
      "text/html": [
       "<div>\n",
       "<style scoped>\n",
       "    .dataframe tbody tr th:only-of-type {\n",
       "        vertical-align: middle;\n",
       "    }\n",
       "\n",
       "    .dataframe tbody tr th {\n",
       "        vertical-align: top;\n",
       "    }\n",
       "\n",
       "    .dataframe thead th {\n",
       "        text-align: right;\n",
       "    }\n",
       "</style>\n",
       "<table border=\"1\" class=\"dataframe\">\n",
       "  <thead>\n",
       "    <tr style=\"text-align: right;\">\n",
       "      <th></th>\n",
       "      <th>Total Inpatient Beds</th>\n",
       "      <th>EWMA</th>\n",
       "    </tr>\n",
       "    <tr>\n",
       "      <th>collection_date</th>\n",
       "      <th></th>\n",
       "      <th></th>\n",
       "    </tr>\n",
       "  </thead>\n",
       "  <tbody>\n",
       "    <tr>\n",
       "      <th>2020-11-26</th>\n",
       "      <td>NaN</td>\n",
       "      <td>235.091316</td>\n",
       "    </tr>\n",
       "    <tr>\n",
       "      <th>2020-11-27</th>\n",
       "      <td>NaN</td>\n",
       "      <td>235.091316</td>\n",
       "    </tr>\n",
       "    <tr>\n",
       "      <th>2020-11-28</th>\n",
       "      <td>NaN</td>\n",
       "      <td>235.091316</td>\n",
       "    </tr>\n",
       "    <tr>\n",
       "      <th>2020-11-29</th>\n",
       "      <td>NaN</td>\n",
       "      <td>235.091316</td>\n",
       "    </tr>\n",
       "    <tr>\n",
       "      <th>2021-05-14</th>\n",
       "      <td>NaN</td>\n",
       "      <td>235.267330</td>\n",
       "    </tr>\n",
       "    <tr>\n",
       "      <th>2021-05-15</th>\n",
       "      <td>NaN</td>\n",
       "      <td>235.267330</td>\n",
       "    </tr>\n",
       "    <tr>\n",
       "      <th>2021-05-16</th>\n",
       "      <td>NaN</td>\n",
       "      <td>235.267330</td>\n",
       "    </tr>\n",
       "  </tbody>\n",
       "</table>\n",
       "</div>"
      ],
      "text/plain": [
       "                 Total Inpatient Beds        EWMA\n",
       "collection_date                                  \n",
       "2020-11-26                        NaN  235.091316\n",
       "2020-11-27                        NaN  235.091316\n",
       "2020-11-28                        NaN  235.091316\n",
       "2020-11-29                        NaN  235.091316\n",
       "2021-05-14                        NaN  235.267330\n",
       "2021-05-15                        NaN  235.267330\n",
       "2021-05-16                        NaN  235.267330"
      ]
     },
     "execution_count": 17,
     "metadata": {},
     "output_type": "execute_result"
    }
   ],
   "source": [
    "null_data = df[df.isnull().any(axis=1)]\n",
    "\n",
    "null_data"
   ]
  },
  {
   "cell_type": "code",
   "execution_count": 18,
   "metadata": {},
   "outputs": [],
   "source": [
    "df['Total Inpatient Beds'] = df['Total Inpatient Beds'].fillna(df.EWMA)"
   ]
  },
  {
   "cell_type": "code",
   "execution_count": 19,
   "metadata": {},
   "outputs": [
    {
     "data": {
      "image/png": "[encoded data removed]",
      "text/plain": [
       "<Figure size 864x432 with 1 Axes>"
      ]
     },
     "metadata": {
      "needs_background": "light"
     },
     "output_type": "display_data"
    }
   ],
   "source": [
    "df.plot(legend=True,figsize=(12,6));"
   ]
  },
  {
   "cell_type": "code",
   "execution_count": 20,
   "metadata": {},
   "outputs": [
    {
     "data": {
      "image/png": "[encoded data removed]",
      "text/plain": [
       "<Figure size 432x288 with 4 Axes>"
      ]
     },
     "metadata": {
      "needs_background": "light"
     },
     "output_type": "display_data"
    }
   ],
   "source": [
    "result = seasonal_decompose(df['Total Inpatient Beds'])\n",
    "result.plot();"
   ]
  },
  {
   "cell_type": "code",
   "execution_count": 21,
   "metadata": {
    "scrolled": true
   },
   "outputs": [
    {
     "data": {
      "image/png": "[encoded data removed]",
      "text/plain": [
       "<Figure size 432x288 with 1 Axes>"
      ]
     },
     "metadata": {
      "needs_background": "light"
     },
     "output_type": "display_data"
    },
    {
     "data": {
      "image/png": "[encoded data removed]",
      "text/plain": [
       "<Figure size 432x288 with 1 Axes>"
      ]
     },
     "metadata": {
      "needs_background": "light"
     },
     "output_type": "display_data"
    }
   ],
   "source": [
    "tsa_plots.plot_acf(df['Total Inpatient Beds'],lags=30);\n",
    "tsa_plots.plot_pacf(df['Total Inpatient Beds']);"
   ]
  },
  {
   "cell_type": "code",
   "execution_count": 22,
   "metadata": {},
   "outputs": [
    {
     "name": "stdout",
     "output_type": "stream",
     "text": [
      "Augmented Dickey-Fuller Test: \n",
      "ADF test statistic     -5.809918e+00\n",
      "p-value                 4.426037e-07\n",
      "# lags used             4.000000e+00\n",
      "# observations          3.610000e+02\n",
      "critical value (1%)    -3.448595e+00\n",
      "critical value (5%)    -2.869580e+00\n",
      "critical value (10%)   -2.571053e+00\n",
      "Strong evidence against the null hypothesis\n",
      "Reject the null hypothesis\n",
      "Data has no unit root and is stationary\n"
     ]
    }
   ],
   "source": [
    "adf_test(df['Total Inpatient Beds'])"
   ]
  },
  {
   "cell_type": "code",
   "execution_count": 23,
   "metadata": {},
   "outputs": [],
   "source": [
    "df['Availability'] = 900-df['Total Inpatient Beds']"
   ]
  },
  {
   "cell_type": "code",
   "execution_count": 24,
   "metadata": {
    "scrolled": true
   },
   "outputs": [
    {
     "data": {
      "text/html": [
       "<div>\n",
       "<style scoped>\n",
       "    .dataframe tbody tr th:only-of-type {\n",
       "        vertical-align: middle;\n",
       "    }\n",
       "\n",
       "    .dataframe tbody tr th {\n",
       "        vertical-align: top;\n",
       "    }\n",
       "\n",
       "    .dataframe thead th {\n",
       "        text-align: right;\n",
       "    }\n",
       "</style>\n",
       "<table border=\"1\" class=\"dataframe\">\n",
       "  <thead>\n",
       "    <tr style=\"text-align: right;\">\n",
       "      <th></th>\n",
       "      <th>Total Inpatient Beds</th>\n",
       "      <th>EWMA</th>\n",
       "      <th>Availability</th>\n",
       "    </tr>\n",
       "    <tr>\n",
       "      <th>collection_date</th>\n",
       "      <th></th>\n",
       "      <th></th>\n",
       "      <th></th>\n",
       "    </tr>\n",
       "  </thead>\n",
       "  <tbody>\n",
       "    <tr>\n",
       "      <th>2020-06-15</th>\n",
       "      <td>293.0</td>\n",
       "      <td>293.000000</td>\n",
       "      <td>607.0</td>\n",
       "    </tr>\n",
       "    <tr>\n",
       "      <th>2020-06-16</th>\n",
       "      <td>295.0</td>\n",
       "      <td>293.266667</td>\n",
       "      <td>605.0</td>\n",
       "    </tr>\n",
       "    <tr>\n",
       "      <th>2020-06-17</th>\n",
       "      <td>290.0</td>\n",
       "      <td>292.831111</td>\n",
       "      <td>610.0</td>\n",
       "    </tr>\n",
       "    <tr>\n",
       "      <th>2020-06-18</th>\n",
       "      <td>291.0</td>\n",
       "      <td>292.586963</td>\n",
       "      <td>609.0</td>\n",
       "    </tr>\n",
       "    <tr>\n",
       "      <th>2020-06-19</th>\n",
       "      <td>288.0</td>\n",
       "      <td>291.975368</td>\n",
       "      <td>612.0</td>\n",
       "    </tr>\n",
       "  </tbody>\n",
       "</table>\n",
       "</div>"
      ],
      "text/plain": [
       "                 Total Inpatient Beds        EWMA  Availability\n",
       "collection_date                                                \n",
       "2020-06-15                      293.0  293.000000         607.0\n",
       "2020-06-16                      295.0  293.266667         605.0\n",
       "2020-06-17                      290.0  292.831111         610.0\n",
       "2020-06-18                      291.0  292.586963         609.0\n",
       "2020-06-19                      288.0  291.975368         612.0"
      ]
     },
     "execution_count": 24,
     "metadata": {},
     "output_type": "execute_result"
    }
   ],
   "source": [
    "df.head()"
   ]
  },
  {
   "cell_type": "code",
   "execution_count": 25,
   "metadata": {
    "scrolled": true
   },
   "outputs": [
    {
     "name": "stdout",
     "output_type": "stream",
     "text": [
      "Performing stepwise search to minimize aic\n",
      " ARIMA(2,0,2)(0,0,0)[0] intercept   : AIC=3450.235, Time=3.77 sec\n",
      " ARIMA(0,0,0)(0,0,0)[0] intercept   : AIC=3498.228, Time=0.04 sec\n",
      " ARIMA(1,0,0)(0,0,0)[0] intercept   : AIC=3463.937, Time=0.29 sec\n",
      " ARIMA(0,0,1)(0,0,0)[0] intercept   : AIC=3474.190, Time=0.61 sec\n",
      " ARIMA(0,0,0)(0,0,0)[0]             : AIC=5063.215, Time=0.02 sec\n",
      " ARIMA(1,0,2)(0,0,0)[0] intercept   : AIC=3454.112, Time=1.29 sec\n",
      " ARIMA(2,0,1)(0,0,0)[0] intercept   : AIC=3453.529, Time=1.27 sec\n",
      " ARIMA(3,0,2)(0,0,0)[0] intercept   : AIC=3449.950, Time=2.96 sec\n",
      " ARIMA(3,0,1)(0,0,0)[0] intercept   : AIC=3452.634, Time=1.26 sec\n",
      " ARIMA(4,0,2)(0,0,0)[0] intercept   : AIC=3456.210, Time=3.48 sec\n",
      " ARIMA(3,0,3)(0,0,0)[0] intercept   : AIC=3445.001, Time=2.91 sec\n",
      " ARIMA(2,0,3)(0,0,0)[0] intercept   : AIC=3450.540, Time=1.89 sec\n",
      " ARIMA(4,0,3)(0,0,0)[0] intercept   : AIC=3444.856, Time=2.81 sec\n",
      " ARIMA(5,0,3)(0,0,0)[0] intercept   : AIC=3448.073, Time=3.30 sec\n",
      " ARIMA(4,0,4)(0,0,0)[0] intercept   : AIC=3446.078, Time=3.41 sec\n",
      " ARIMA(3,0,4)(0,0,0)[0] intercept   : AIC=3445.001, Time=3.07 sec\n",
      " ARIMA(5,0,2)(0,0,0)[0] intercept   : AIC=3448.623, Time=2.06 sec\n",
      " ARIMA(5,0,4)(0,0,0)[0] intercept   : AIC=3448.114, Time=3.51 sec\n",
      " ARIMA(4,0,3)(0,0,0)[0]             : AIC=3444.507, Time=1.21 sec\n",
      " ARIMA(3,0,3)(0,0,0)[0]             : AIC=inf, Time=2.17 sec\n",
      " ARIMA(4,0,2)(0,0,0)[0]             : AIC=inf, Time=2.30 sec\n",
      " ARIMA(5,0,3)(0,0,0)[0]             : AIC=3441.844, Time=2.90 sec\n",
      " ARIMA(5,0,2)(0,0,0)[0]             : AIC=inf, Time=2.24 sec\n",
      " ARIMA(5,0,4)(0,0,0)[0]             : AIC=inf, Time=2.98 sec\n",
      " ARIMA(4,0,4)(0,0,0)[0]             : AIC=inf, Time=2.79 sec\n",
      "\n",
      "Best model:  ARIMA(5,0,3)(0,0,0)[0]          \n",
      "Total fit time: 54.622 seconds\n"
     ]
    },
    {
     "data": {
      "text/html": [
       "<table class=\"simpletable\">\n",
       "<caption>SARIMAX Results</caption>\n",
       "<tr>\n",
       "  <th>Dep. Variable:</th>           <td>y</td>        <th>  No. Observations:  </th>    <td>366</td>   \n",
       "</tr>\n",
       "<tr>\n",
       "  <th>Model:</th>           <td>SARIMAX(5, 0, 3)</td> <th>  Log Likelihood     </th> <td>-1711.922</td>\n",
       "</tr>\n",
       "<tr>\n",
       "  <th>Date:</th>            <td>Wed, 25 Aug 2021</td> <th>  AIC                </th> <td>3441.844</td> \n",
       "</tr>\n",
       "<tr>\n",
       "  <th>Time:</th>                <td>11:58:21</td>     <th>  BIC                </th> <td>3476.968</td> \n",
       "</tr>\n",
       "<tr>\n",
       "  <th>Sample:</th>                  <td>0</td>        <th>  HQIC               </th> <td>3455.801</td> \n",
       "</tr>\n",
       "<tr>\n",
       "  <th></th>                      <td> - 366</td>      <th>                     </th>     <td> </td>    \n",
       "</tr>\n",
       "<tr>\n",
       "  <th>Covariance Type:</th>        <td>opg</td>       <th>                     </th>     <td> </td>    \n",
       "</tr>\n",
       "</table>\n",
       "<table class=\"simpletable\">\n",
       "<tr>\n",
       "     <td></td>       <th>coef</th>     <th>std err</th>      <th>z</th>      <th>P>|z|</th>  <th>[0.025</th>    <th>0.975]</th>  \n",
       "</tr>\n",
       "<tr>\n",
       "  <th>ar.L1</th>  <td>   -0.7620</td> <td>    0.055</td> <td>  -13.880</td> <td> 0.000</td> <td>   -0.870</td> <td>   -0.654</td>\n",
       "</tr>\n",
       "<tr>\n",
       "  <th>ar.L2</th>  <td>    1.1348</td> <td>    0.070</td> <td>   16.100</td> <td> 0.000</td> <td>    0.997</td> <td>    1.273</td>\n",
       "</tr>\n",
       "<tr>\n",
       "  <th>ar.L3</th>  <td>    0.9378</td> <td>    0.067</td> <td>   14.019</td> <td> 0.000</td> <td>    0.807</td> <td>    1.069</td>\n",
       "</tr>\n",
       "<tr>\n",
       "  <th>ar.L4</th>  <td>   -0.2047</td> <td>    0.069</td> <td>   -2.954</td> <td> 0.003</td> <td>   -0.340</td> <td>   -0.069</td>\n",
       "</tr>\n",
       "<tr>\n",
       "  <th>ar.L5</th>  <td>   -0.1060</td> <td>    0.054</td> <td>   -1.968</td> <td> 0.049</td> <td>   -0.212</td> <td>   -0.000</td>\n",
       "</tr>\n",
       "<tr>\n",
       "  <th>ma.L1</th>  <td>    0.9803</td> <td>    0.030</td> <td>   32.879</td> <td> 0.000</td> <td>    0.922</td> <td>    1.039</td>\n",
       "</tr>\n",
       "<tr>\n",
       "  <th>ma.L2</th>  <td>   -0.8295</td> <td>    0.036</td> <td>  -23.159</td> <td> 0.000</td> <td>   -0.900</td> <td>   -0.759</td>\n",
       "</tr>\n",
       "<tr>\n",
       "  <th>ma.L3</th>  <td>   -0.9222</td> <td>    0.030</td> <td>  -31.101</td> <td> 0.000</td> <td>   -0.980</td> <td>   -0.864</td>\n",
       "</tr>\n",
       "<tr>\n",
       "  <th>sigma2</th> <td>  662.8360</td> <td>   45.571</td> <td>   14.545</td> <td> 0.000</td> <td>  573.519</td> <td>  752.153</td>\n",
       "</tr>\n",
       "</table>\n",
       "<table class=\"simpletable\">\n",
       "<tr>\n",
       "  <th>Ljung-Box (L1) (Q):</th>     <td>0.01</td> <th>  Jarque-Bera (JB):  </th> <td>16.54</td>\n",
       "</tr>\n",
       "<tr>\n",
       "  <th>Prob(Q):</th>                <td>0.92</td> <th>  Prob(JB):          </th> <td>0.00</td> \n",
       "</tr>\n",
       "<tr>\n",
       "  <th>Heteroskedasticity (H):</th> <td>0.97</td> <th>  Skew:              </th> <td>0.35</td> \n",
       "</tr>\n",
       "<tr>\n",
       "  <th>Prob(H) (two-sided):</th>    <td>0.86</td> <th>  Kurtosis:          </th> <td>3.77</td> \n",
       "</tr>\n",
       "</table><br/><br/>Warnings:<br/>[1] Covariance matrix calculated using the outer product of gradients (complex-step)."
      ],
      "text/plain": [
       "<class 'statsmodels.iolib.summary.Summary'>\n",
       "\"\"\"\n",
       "                               SARIMAX Results                                \n",
       "==============================================================================\n",
       "Dep. Variable:                      y   No. Observations:                  366\n",
       "Model:               SARIMAX(5, 0, 3)   Log Likelihood               -1711.922\n",
       "Date:                Wed, 25 Aug 2021   AIC                           3441.844\n",
       "Time:                        11:58:21   BIC                           3476.968\n",
       "Sample:                             0   HQIC                          3455.801\n",
       "                                - 366                                         \n",
       "Covariance Type:                  opg                                         \n",
       "==============================================================================\n",
       "                 coef    std err          z      P>|z|      [0.025      0.975]\n",
       "------------------------------------------------------------------------------\n",
       "ar.L1         -0.7620      0.055    -13.880      0.000      -0.870      -0.654\n",
       "ar.L2          1.1348      0.070     16.100      0.000       0.997       1.273\n",
       "ar.L3          0.9378      0.067     14.019      0.000       0.807       1.069\n",
       "ar.L4         -0.2047      0.069     -2.954      0.003      -0.340      -0.069\n",
       "ar.L5         -0.1060      0.054     -1.968      0.049      -0.212      -0.000\n",
       "ma.L1          0.9803      0.030     32.879      0.000       0.922       1.039\n",
       "ma.L2         -0.8295      0.036    -23.159      0.000      -0.900      -0.759\n",
       "ma.L3         -0.9222      0.030    -31.101      0.000      -0.980      -0.864\n",
       "sigma2       662.8360     45.571     14.545      0.000     573.519     752.153\n",
       "===================================================================================\n",
       "Ljung-Box (L1) (Q):                   0.01   Jarque-Bera (JB):                16.54\n",
       "Prob(Q):                              0.92   Prob(JB):                         0.00\n",
       "Heteroskedasticity (H):               0.97   Skew:                             0.35\n",
       "Prob(H) (two-sided):                  0.86   Kurtosis:                         3.77\n",
       "===================================================================================\n",
       "\n",
       "Warnings:\n",
       "[1] Covariance matrix calculated using the outer product of gradients (complex-step).\n",
       "\"\"\""
      ]
     },
     "execution_count": 25,
     "metadata": {},
     "output_type": "execute_result"
    }
   ],
   "source": [
    "auto_arima(df['Total Inpatient Beds'],seasonal=False,stationary=True,trace=True).summary()"
   ]
  },
  {
   "cell_type": "code",
   "execution_count": 26,
   "metadata": {},
   "outputs": [],
   "source": [
    "# train=df.head(len(df)-30)\n",
    "# test = df.tail(30)\n",
    "train=df.head(int(len(df)*0.67))\n",
    "test = df.iloc[len(train):]"
   ]
  },
  {
   "cell_type": "code",
   "execution_count": 27,
   "metadata": {
    "scrolled": true
   },
   "outputs": [
    {
     "name": "stdout",
     "output_type": "stream",
     "text": [
      "Performing stepwise search to minimize aic\n",
      " ARIMA(2,1,2)(0,0,0)[0] intercept   : AIC=2291.491, Time=1.15 sec\n",
      " ARIMA(0,1,0)(0,0,0)[0] intercept   : AIC=2397.873, Time=0.04 sec\n",
      " ARIMA(1,1,0)(0,0,0)[0] intercept   : AIC=2341.686, Time=0.21 sec\n",
      " ARIMA(0,1,1)(0,0,0)[0] intercept   : AIC=2290.888, Time=0.19 sec\n",
      " ARIMA(0,1,0)(0,0,0)[0]             : AIC=2395.888, Time=0.03 sec\n",
      " ARIMA(1,1,1)(0,0,0)[0] intercept   : AIC=2288.952, Time=0.53 sec\n",
      " ARIMA(2,1,1)(0,0,0)[0] intercept   : AIC=2289.573, Time=0.47 sec\n",
      " ARIMA(1,1,2)(0,0,0)[0] intercept   : AIC=2292.756, Time=0.69 sec\n",
      " ARIMA(0,1,2)(0,0,0)[0] intercept   : AIC=2289.588, Time=0.33 sec\n",
      " ARIMA(2,1,0)(0,0,0)[0] intercept   : AIC=2324.452, Time=0.31 sec\n",
      " ARIMA(1,1,1)(0,0,0)[0]             : AIC=2288.109, Time=0.28 sec\n",
      " ARIMA(0,1,1)(0,0,0)[0]             : AIC=2289.667, Time=0.10 sec\n",
      " ARIMA(1,1,0)(0,0,0)[0]             : AIC=2339.718, Time=0.12 sec\n",
      " ARIMA(2,1,1)(0,0,0)[0]             : AIC=2288.870, Time=0.35 sec\n",
      " ARIMA(1,1,2)(0,0,0)[0]             : AIC=2291.749, Time=0.39 sec\n",
      " ARIMA(0,1,2)(0,0,0)[0]             : AIC=2288.660, Time=0.16 sec\n",
      " ARIMA(2,1,0)(0,0,0)[0]             : AIC=2322.512, Time=0.19 sec\n",
      " ARIMA(2,1,2)(0,0,0)[0]             : AIC=2290.809, Time=0.66 sec\n",
      "\n",
      "Best model:  ARIMA(1,1,1)(0,0,0)[0]          \n",
      "Total fit time: 6.334 seconds\n"
     ]
    },
    {
     "data": {
      "text/html": [
       "<table class=\"simpletable\">\n",
       "<caption>SARIMAX Results</caption>\n",
       "<tr>\n",
       "  <th>Dep. Variable:</th>           <td>y</td>        <th>  No. Observations:  </th>    <td>245</td>   \n",
       "</tr>\n",
       "<tr>\n",
       "  <th>Model:</th>           <td>SARIMAX(1, 1, 1)</td> <th>  Log Likelihood     </th> <td>-1141.054</td>\n",
       "</tr>\n",
       "<tr>\n",
       "  <th>Date:</th>            <td>Wed, 25 Aug 2021</td> <th>  AIC                </th> <td>2288.109</td> \n",
       "</tr>\n",
       "<tr>\n",
       "  <th>Time:</th>                <td>11:58:28</td>     <th>  BIC                </th> <td>2298.600</td> \n",
       "</tr>\n",
       "<tr>\n",
       "  <th>Sample:</th>                  <td>0</td>        <th>  HQIC               </th> <td>2292.334</td> \n",
       "</tr>\n",
       "<tr>\n",
       "  <th></th>                      <td> - 245</td>      <th>                     </th>     <td> </td>    \n",
       "</tr>\n",
       "<tr>\n",
       "  <th>Covariance Type:</th>        <td>opg</td>       <th>                     </th>     <td> </td>    \n",
       "</tr>\n",
       "</table>\n",
       "<table class=\"simpletable\">\n",
       "<tr>\n",
       "     <td></td>       <th>coef</th>     <th>std err</th>      <th>z</th>      <th>P>|z|</th>  <th>[0.025</th>    <th>0.975]</th>  \n",
       "</tr>\n",
       "<tr>\n",
       "  <th>ar.L1</th>  <td>    0.1431</td> <td>    0.064</td> <td>    2.250</td> <td> 0.024</td> <td>    0.018</td> <td>    0.268</td>\n",
       "</tr>\n",
       "<tr>\n",
       "  <th>ma.L1</th>  <td>   -0.9007</td> <td>    0.028</td> <td>  -32.571</td> <td> 0.000</td> <td>   -0.955</td> <td>   -0.847</td>\n",
       "</tr>\n",
       "<tr>\n",
       "  <th>sigma2</th> <td>  671.3273</td> <td>   58.230</td> <td>   11.529</td> <td> 0.000</td> <td>  557.199</td> <td>  785.455</td>\n",
       "</tr>\n",
       "</table>\n",
       "<table class=\"simpletable\">\n",
       "<tr>\n",
       "  <th>Ljung-Box (L1) (Q):</th>     <td>0.07</td> <th>  Jarque-Bera (JB):  </th> <td>2.25</td>\n",
       "</tr>\n",
       "<tr>\n",
       "  <th>Prob(Q):</th>                <td>0.79</td> <th>  Prob(JB):          </th> <td>0.33</td>\n",
       "</tr>\n",
       "<tr>\n",
       "  <th>Heteroskedasticity (H):</th> <td>0.83</td> <th>  Skew:              </th> <td>0.16</td>\n",
       "</tr>\n",
       "<tr>\n",
       "  <th>Prob(H) (two-sided):</th>    <td>0.39</td> <th>  Kurtosis:          </th> <td>3.34</td>\n",
       "</tr>\n",
       "</table><br/><br/>Warnings:<br/>[1] Covariance matrix calculated using the outer product of gradients (complex-step)."
      ],
      "text/plain": [
       "<class 'statsmodels.iolib.summary.Summary'>\n",
       "\"\"\"\n",
       "                               SARIMAX Results                                \n",
       "==============================================================================\n",
       "Dep. Variable:                      y   No. Observations:                  245\n",
       "Model:               SARIMAX(1, 1, 1)   Log Likelihood               -1141.054\n",
       "Date:                Wed, 25 Aug 2021   AIC                           2288.109\n",
       "Time:                        11:58:28   BIC                           2298.600\n",
       "Sample:                             0   HQIC                          2292.334\n",
       "                                - 245                                         \n",
       "Covariance Type:                  opg                                         \n",
       "==============================================================================\n",
       "                 coef    std err          z      P>|z|      [0.025      0.975]\n",
       "------------------------------------------------------------------------------\n",
       "ar.L1          0.1431      0.064      2.250      0.024       0.018       0.268\n",
       "ma.L1         -0.9007      0.028    -32.571      0.000      -0.955      -0.847\n",
       "sigma2       671.3273     58.230     11.529      0.000     557.199     785.455\n",
       "===================================================================================\n",
       "Ljung-Box (L1) (Q):                   0.07   Jarque-Bera (JB):                 2.25\n",
       "Prob(Q):                              0.79   Prob(JB):                         0.33\n",
       "Heteroskedasticity (H):               0.83   Skew:                             0.16\n",
       "Prob(H) (two-sided):                  0.39   Kurtosis:                         3.34\n",
       "===================================================================================\n",
       "\n",
       "Warnings:\n",
       "[1] Covariance matrix calculated using the outer product of gradients (complex-step).\n",
       "\"\"\""
      ]
     },
     "execution_count": 27,
     "metadata": {},
     "output_type": "execute_result"
    }
   ],
   "source": [
    "auto_arima(train['Total Inpatient Beds'],seasonal=False,trace=True).summary()"
   ]
  },
  {
   "cell_type": "code",
   "execution_count": 28,
   "metadata": {},
   "outputs": [],
   "source": [
    "model = SARIMAX(train['Total Inpatient Beds'],order=(1,1,1))\n",
    "results = model.fit()\n"
   ]
  },
  {
   "cell_type": "code",
   "execution_count": 29,
   "metadata": {},
   "outputs": [],
   "source": [
    "start=len(train)\n",
    "end=len(train)+len(test)-1\n",
    "predictions = results.predict(start=start, end=end).rename('ARIMA Predictions')"
   ]
  },
  {
   "cell_type": "code",
   "execution_count": 30,
   "metadata": {},
   "outputs": [
    {
     "data": {
      "image/png": "[encoded data removed]",
      "text/plain": [
       "<Figure size 864x432 with 1 Axes>"
      ]
     },
     "metadata": {
      "needs_background": "light"
     },
     "output_type": "display_data"
    }
   ],
   "source": [
    "ax = test['Total Inpatient Beds'].plot(legend=True,figsize=(12,6))\n",
    "predictions.plot(legend=True)\n",
    "ax.autoscale(axis='x',tight=True)\n",
    "# ax.set(xlabel=xlabel, ylabel=ylabel);"
   ]
  },
  {
   "cell_type": "code",
   "execution_count": 31,
   "metadata": {
    "scrolled": true
   },
   "outputs": [
    {
     "data": {
      "text/plain": [
       "26.025036295605666"
      ]
     },
     "execution_count": 31,
     "metadata": {},
     "output_type": "execute_result"
    }
   ],
   "source": [
    "rmse(test['Total Inpatient Beds'],predictions)"
   ]
  },
  {
   "cell_type": "markdown",
   "metadata": {},
   "source": [
    "### Residual Model"
   ]
  },
  {
   "cell_type": "code",
   "execution_count": 32,
   "metadata": {},
   "outputs": [],
   "source": [
    "series=df.iloc[:,0]"
   ]
  },
  {
   "cell_type": "code",
   "execution_count": 33,
   "metadata": {},
   "outputs": [],
   "source": [
    "# create lagged dataset\n",
    "values = pd.DataFrame(series.values)\n",
    "dataframe = pd.concat([values.shift(1), values], axis=1)\n",
    "dataframe.columns = ['t', 't+1']\n",
    "\n",
    "# split into train and test sets\n",
    "X = dataframe.values\n",
    "train_size = int(len(X) * 0.67)\n",
    "train_res, test_res = X[1:train_size], X[train_size:]\n",
    "train_X, train_y = train_res[:,0], train_res[:,1]\n",
    "test_X, test_y = test_res[:,0], test_res[:,1]\n",
    "\n",
    "# persistence model on training set\n",
    "# train_pred = [x for x in train_X]\n",
    "\n",
    "# calculate residuals\n",
    "train_resid = [train_y[i]-train_X[i] for i in range(len(train_X))] #difference between both columns"
   ]
  },
  {
   "cell_type": "code",
   "execution_count": 34,
   "metadata": {},
   "outputs": [
    {
     "data": {
      "text/plain": [
       "121"
      ]
     },
     "execution_count": 34,
     "metadata": {},
     "output_type": "execute_result"
    }
   ],
   "source": [
    "len(test_res)"
   ]
  },
  {
   "cell_type": "code",
   "execution_count": 35,
   "metadata": {
    "scrolled": true
   },
   "outputs": [
    {
     "data": {
      "text/plain": [
       "121"
      ]
     },
     "execution_count": 35,
     "metadata": {},
     "output_type": "execute_result"
    }
   ],
   "source": [
    "len(test)"
   ]
  },
  {
   "cell_type": "code",
   "execution_count": 36,
   "metadata": {},
   "outputs": [],
   "source": [
    "window = 15\n",
    "model = AutoReg(train_resid, lags=15)\n",
    "model_fit = model.fit()\n",
    "coef = model_fit.params"
   ]
  },
  {
   "cell_type": "code",
   "execution_count": 37,
   "metadata": {},
   "outputs": [
    {
     "name": "stdout",
     "output_type": "stream",
     "text": [
      "rmse 27.691608998082614\n"
     ]
    }
   ],
   "source": [
    "# walk forward over time steps in test\n",
    "history = train_resid[len(train_resid)-window:]\n",
    "# history = [history[i] for i in range(len(history))]\n",
    "predictions_res = list()\n",
    "for t in range(len(test_y)):\n",
    "    # persistence\n",
    "    yhat = test_X[t]  # actual data or data at time 't'\n",
    "    error = test_y[t] - yhat  #difference between time at 't' and 't+1'\n",
    "    # predict error\n",
    "    length = len(history)\n",
    "    lag = [history[i] for i in range(length-window,length)]\n",
    "    pred_error = coef[0]\n",
    "    for d in range(window):\n",
    "        pred_error += coef[d+1] * lag[window-d-1]\n",
    "    # correct the prediction\n",
    "    yhat = yhat + pred_error\n",
    "    predictions_res.append(yhat)\n",
    "    history.append(error)\n",
    "#     print('predicted=%f, expected=%f' % (yhat, test_y[t]))\n",
    "\n",
    "rmse_data = rmse(test_y, predictions_res)\n",
    "print(f\"rmse {rmse_data}\") "
   ]
  },
  {
   "cell_type": "code",
   "execution_count": 38,
   "metadata": {},
   "outputs": [
    {
     "data": {
      "text/plain": [
       "121"
      ]
     },
     "execution_count": 38,
     "metadata": {},
     "output_type": "execute_result"
    }
   ],
   "source": [
    "len(predictions)"
   ]
  },
  {
   "cell_type": "code",
   "execution_count": 39,
   "metadata": {},
   "outputs": [
    {
     "data": {
      "text/plain": [
       "121"
      ]
     },
     "execution_count": 39,
     "metadata": {},
     "output_type": "execute_result"
    }
   ],
   "source": [
    "len(predictions_res)"
   ]
  },
  {
   "cell_type": "code",
   "execution_count": 40,
   "metadata": {},
   "outputs": [],
   "source": [
    "forecast = predictions + history[-121:]"
   ]
  },
  {
   "cell_type": "code",
   "execution_count": 41,
   "metadata": {
    "scrolled": true
   },
   "outputs": [
    {
     "data": {
      "text/plain": [
       "25.97541659830227"
      ]
     },
     "execution_count": 41,
     "metadata": {},
     "output_type": "execute_result"
    }
   ],
   "source": [
    "rmse(test['Total Inpatient Beds'],forecast)"
   ]
  },
  {
   "cell_type": "code",
   "execution_count": 42,
   "metadata": {},
   "outputs": [],
   "source": [
    "def mean_absolute_percentage_error(y_true, y_pred): \n",
    "    y_true, y_pred = np.array(y_true), np.array(y_pred)\n",
    "    return np.mean(np.abs((y_true - y_pred) / y_true)) * 100"
   ]
  },
  {
   "cell_type": "code",
   "execution_count": 43,
   "metadata": {},
   "outputs": [
    {
     "data": {
      "text/plain": [
       "9.084820414071306"
      ]
     },
     "execution_count": 43,
     "metadata": {},
     "output_type": "execute_result"
    }
   ],
   "source": [
    "mean_absolute_percentage_error(test['Total Inpatient Beds'],forecast)"
   ]
  },
  {
   "cell_type": "code",
   "execution_count": 44,
   "metadata": {},
   "outputs": [
    {
     "data": {
      "image/png": "[encoded data removed]",
      "text/plain": [
       "<Figure size 864x432 with 1 Axes>"
      ]
     },
     "metadata": {
      "needs_background": "light"
     },
     "output_type": "display_data"
    }
   ],
   "source": [
    "test['Total Inpatient Beds'].plot(legend=True);\n",
    "forecast.plot(figsize=(12,6),legend=True);"
   ]
  },
  {
   "cell_type": "markdown",
   "metadata": {},
   "source": [
    "### Last 30 days testing"
   ]
  },
  {
   "cell_type": "code",
   "execution_count": 45,
   "metadata": {},
   "outputs": [
    {
     "name": "stdout",
     "output_type": "stream",
     "text": [
      "Performing stepwise search to minimize aic\n",
      " ARIMA(2,1,2)(0,0,0)[0] intercept   : AIC=3124.165, Time=2.03 sec\n",
      " ARIMA(0,1,0)(0,0,0)[0] intercept   : AIC=3283.956, Time=0.05 sec\n",
      " ARIMA(1,1,0)(0,0,0)[0] intercept   : AIC=3198.469, Time=0.29 sec\n",
      " ARIMA(0,1,1)(0,0,0)[0] intercept   : AIC=3121.418, Time=0.31 sec\n",
      " ARIMA(0,1,0)(0,0,0)[0]             : AIC=3281.965, Time=0.05 sec\n",
      " ARIMA(1,1,1)(0,0,0)[0] intercept   : AIC=3120.269, Time=0.46 sec\n",
      " ARIMA(2,1,1)(0,0,0)[0] intercept   : AIC=3120.302, Time=0.66 sec\n",
      " ARIMA(1,1,2)(0,0,0)[0] intercept   : AIC=3123.743, Time=1.23 sec\n",
      " ARIMA(0,1,2)(0,0,0)[0] intercept   : AIC=3120.784, Time=0.73 sec\n",
      " ARIMA(2,1,0)(0,0,0)[0] intercept   : AIC=3177.450, Time=0.51 sec\n",
      " ARIMA(1,1,1)(0,0,0)[0]             : AIC=3119.438, Time=0.60 sec\n",
      " ARIMA(0,1,1)(0,0,0)[0]             : AIC=3120.313, Time=0.46 sec\n",
      " ARIMA(1,1,0)(0,0,0)[0]             : AIC=3196.497, Time=0.26 sec\n",
      " ARIMA(2,1,1)(0,0,0)[0]             : AIC=3119.631, Time=0.78 sec\n",
      " ARIMA(1,1,2)(0,0,0)[0]             : AIC=3122.710, Time=0.60 sec\n",
      " ARIMA(0,1,2)(0,0,0)[0]             : AIC=3119.893, Time=0.51 sec\n",
      " ARIMA(2,1,0)(0,0,0)[0]             : AIC=3175.497, Time=0.54 sec\n",
      " ARIMA(2,1,2)(0,0,0)[0]             : AIC=3123.319, Time=1.54 sec\n",
      "\n",
      "Best model:  ARIMA(1,1,1)(0,0,0)[0]          \n",
      "Total fit time: 11.668 seconds\n"
     ]
    },
    {
     "data": {
      "text/html": [
       "<table class=\"simpletable\">\n",
       "<caption>SARIMAX Results</caption>\n",
       "<tr>\n",
       "  <th>Dep. Variable:</th>           <td>y</td>        <th>  No. Observations:  </th>    <td>336</td>   \n",
       "</tr>\n",
       "<tr>\n",
       "  <th>Model:</th>           <td>SARIMAX(1, 1, 1)</td> <th>  Log Likelihood     </th> <td>-1556.719</td>\n",
       "</tr>\n",
       "<tr>\n",
       "  <th>Date:</th>            <td>Wed, 25 Aug 2021</td> <th>  AIC                </th> <td>3119.438</td> \n",
       "</tr>\n",
       "<tr>\n",
       "  <th>Time:</th>                <td>12:00:09</td>     <th>  BIC                </th> <td>3130.880</td> \n",
       "</tr>\n",
       "<tr>\n",
       "  <th>Sample:</th>                  <td>0</td>        <th>  HQIC               </th> <td>3124.000</td> \n",
       "</tr>\n",
       "<tr>\n",
       "  <th></th>                      <td> - 336</td>      <th>                     </th>     <td> </td>    \n",
       "</tr>\n",
       "<tr>\n",
       "  <th>Covariance Type:</th>        <td>opg</td>       <th>                     </th>     <td> </td>    \n",
       "</tr>\n",
       "</table>\n",
       "<table class=\"simpletable\">\n",
       "<tr>\n",
       "     <td></td>       <th>coef</th>     <th>std err</th>      <th>z</th>      <th>P>|z|</th>  <th>[0.025</th>    <th>0.975]</th>  \n",
       "</tr>\n",
       "<tr>\n",
       "  <th>ar.L1</th>  <td>    0.1077</td> <td>    0.054</td> <td>    1.998</td> <td> 0.046</td> <td>    0.002</td> <td>    0.213</td>\n",
       "</tr>\n",
       "<tr>\n",
       "  <th>ma.L1</th>  <td>   -0.9080</td> <td>    0.022</td> <td>  -41.324</td> <td> 0.000</td> <td>   -0.951</td> <td>   -0.865</td>\n",
       "</tr>\n",
       "<tr>\n",
       "  <th>sigma2</th> <td>  633.5774</td> <td>   48.662</td> <td>   13.020</td> <td> 0.000</td> <td>  538.201</td> <td>  728.953</td>\n",
       "</tr>\n",
       "</table>\n",
       "<table class=\"simpletable\">\n",
       "<tr>\n",
       "  <th>Ljung-Box (L1) (Q):</th>     <td>0.06</td> <th>  Jarque-Bera (JB):  </th> <td>1.20</td>\n",
       "</tr>\n",
       "<tr>\n",
       "  <th>Prob(Q):</th>                <td>0.81</td> <th>  Prob(JB):          </th> <td>0.55</td>\n",
       "</tr>\n",
       "<tr>\n",
       "  <th>Heteroskedasticity (H):</th> <td>0.70</td> <th>  Skew:              </th> <td>0.13</td>\n",
       "</tr>\n",
       "<tr>\n",
       "  <th>Prob(H) (two-sided):</th>    <td>0.06</td> <th>  Kurtosis:          </th> <td>3.12</td>\n",
       "</tr>\n",
       "</table><br/><br/>Warnings:<br/>[1] Covariance matrix calculated using the outer product of gradients (complex-step)."
      ],
      "text/plain": [
       "<class 'statsmodels.iolib.summary.Summary'>\n",
       "\"\"\"\n",
       "                               SARIMAX Results                                \n",
       "==============================================================================\n",
       "Dep. Variable:                      y   No. Observations:                  336\n",
       "Model:               SARIMAX(1, 1, 1)   Log Likelihood               -1556.719\n",
       "Date:                Wed, 25 Aug 2021   AIC                           3119.438\n",
       "Time:                        12:00:09   BIC                           3130.880\n",
       "Sample:                             0   HQIC                          3124.000\n",
       "                                - 336                                         \n",
       "Covariance Type:                  opg                                         \n",
       "==============================================================================\n",
       "                 coef    std err          z      P>|z|      [0.025      0.975]\n",
       "------------------------------------------------------------------------------\n",
       "ar.L1          0.1077      0.054      1.998      0.046       0.002       0.213\n",
       "ma.L1         -0.9080      0.022    -41.324      0.000      -0.951      -0.865\n",
       "sigma2       633.5774     48.662     13.020      0.000     538.201     728.953\n",
       "===================================================================================\n",
       "Ljung-Box (L1) (Q):                   0.06   Jarque-Bera (JB):                 1.20\n",
       "Prob(Q):                              0.81   Prob(JB):                         0.55\n",
       "Heteroskedasticity (H):               0.70   Skew:                             0.13\n",
       "Prob(H) (two-sided):                  0.06   Kurtosis:                         3.12\n",
       "===================================================================================\n",
       "\n",
       "Warnings:\n",
       "[1] Covariance matrix calculated using the outer product of gradients (complex-step).\n",
       "\"\"\""
      ]
     },
     "execution_count": 45,
     "metadata": {},
     "output_type": "execute_result"
    }
   ],
   "source": [
    "# train=df.head(len(df)-30)\n",
    "# test = df.tail(30)\n",
    "train=df.head(336)\n",
    "test = df.tail(30)\n",
    "\n",
    "auto_arima(train['Total Inpatient Beds'],seasonal=False,trace=True).summary()"
   ]
  },
  {
   "cell_type": "code",
   "execution_count": 46,
   "metadata": {},
   "outputs": [],
   "source": [
    "model = SARIMAX(train['Total Inpatient Beds'],order=(1,1,1))\n",
    "results = model.fit()"
   ]
  },
  {
   "cell_type": "code",
   "execution_count": 47,
   "metadata": {},
   "outputs": [],
   "source": [
    "start=len(train)\n",
    "end=len(train)+len(test)-1\n",
    "predictions = results.predict(start=start, end=end).rename('ARIMA Predictions')"
   ]
  },
  {
   "cell_type": "code",
   "execution_count": 48,
   "metadata": {},
   "outputs": [
    {
     "data": {
      "image/png": "[encoded data removed]",
      "text/plain": [
       "<Figure size 864x432 with 1 Axes>"
      ]
     },
     "metadata": {
      "needs_background": "light"
     },
     "output_type": "display_data"
    }
   ],
   "source": [
    "ax = test['Total Inpatient Beds'].plot(legend=True,figsize=(12,6))\n",
    "predictions.plot(legend=True)\n",
    "ax.autoscale(axis='x',tight=True)\n",
    "# ax.set(xlabel=xlabel, ylabel=yla"
   ]
  },
  {
   "cell_type": "code",
   "execution_count": 49,
   "metadata": {},
   "outputs": [
    {
     "data": {
      "text/plain": [
       "34.58000391490232"
      ]
     },
     "execution_count": 49,
     "metadata": {},
     "output_type": "execute_result"
    }
   ],
   "source": [
    "rmse(test['Total Inpatient Beds'],predictions)"
   ]
  },
  {
   "cell_type": "code",
   "execution_count": 50,
   "metadata": {},
   "outputs": [],
   "source": [
    "series=df.iloc[:,0]\n",
    "# create lagged dataset\n",
    "values = pd.DataFrame(series.values)\n",
    "dataframe = pd.concat([values.shift(1), values], axis=1)\n",
    "dataframe.columns = ['t', 't+1']"
   ]
  },
  {
   "cell_type": "code",
   "execution_count": 51,
   "metadata": {},
   "outputs": [],
   "source": [
    "X = dataframe.values"
   ]
  },
  {
   "cell_type": "code",
   "execution_count": 54,
   "metadata": {},
   "outputs": [
    {
     "data": {
      "text/plain": [
       "array([293., 295.])"
      ]
     },
     "execution_count": 54,
     "metadata": {},
     "output_type": "execute_result"
    }
   ],
   "source": [
    "X[1]"
   ]
  },
  {
   "cell_type": "code",
   "execution_count": 59,
   "metadata": {},
   "outputs": [],
   "source": [
    "train_size = 336\n",
    "train_res, test_res = X[1:train_size], X[train_size:]\n",
    "train_X, train_y = train_res[:,0], train_res[:,1]\n",
    "test_X, test_y = test_res[:,0], test_res[:,1]"
   ]
  },
  {
   "cell_type": "code",
   "execution_count": 60,
   "metadata": {},
   "outputs": [
    {
     "data": {
      "text/plain": [
       "30"
      ]
     },
     "execution_count": 60,
     "metadata": {},
     "output_type": "execute_result"
    }
   ],
   "source": [
    "# calculate residuals\n",
    "train_resid = [train_y[i]-train_X[i] for i in range(len(train_X))] #difference between both columns\n",
    "\n",
    "len(test_res)\n"
   ]
  },
  {
   "cell_type": "code",
   "execution_count": 61,
   "metadata": {},
   "outputs": [
    {
     "data": {
      "text/plain": [
       "30"
      ]
     },
     "execution_count": 61,
     "metadata": {},
     "output_type": "execute_result"
    }
   ],
   "source": [
    "len(test)"
   ]
  },
  {
   "cell_type": "code",
   "execution_count": 62,
   "metadata": {},
   "outputs": [],
   "source": [
    "window = 15\n",
    "model = AutoReg(train_resid, lags=15)\n",
    "model_fit = model.fit()\n",
    "coef = model_fit.params\n"
   ]
  },
  {
   "cell_type": "code",
   "execution_count": 63,
   "metadata": {},
   "outputs": [
    {
     "name": "stdout",
     "output_type": "stream",
     "text": [
      "rmse 37.96084020261823\n"
     ]
    }
   ],
   "source": [
    "# walk forward over time steps in test\n",
    "history = train_resid[len(train_resid)-window:]\n",
    "# history = [history[i] for i in range(len(history))]\n",
    "predictions_res = list()\n",
    "for t in range(len(test_y)):\n",
    "    # persistence\n",
    "    yhat = test_X[t]  # actual data or data at time 't'\n",
    "    error = test_y[t] - yhat  #difference between time at 't' and 't+1'\n",
    "    # predict error\n",
    "    length = len(history)\n",
    "    lag = [history[i] for i in range(length-window,length)]\n",
    "    pred_error = coef[0]\n",
    "    for d in range(window):\n",
    "        pred_error += coef[d+1] * lag[window-d-1]\n",
    "    # correct the prediction\n",
    "    yhat = yhat + pred_error\n",
    "    predictions_res.append(yhat)\n",
    "    history.append(error)\n",
    "#     print('predicted=%f, expected=%f' % (yhat, test_y[t]))\n",
    "\n",
    "rmse_data = rmse(test_y, predictions_res)\n",
    "print(f\"rmse {rmse_data}\") "
   ]
  },
  {
   "cell_type": "code",
   "execution_count": 64,
   "metadata": {},
   "outputs": [
    {
     "data": {
      "text/plain": [
       "30"
      ]
     },
     "execution_count": 64,
     "metadata": {},
     "output_type": "execute_result"
    }
   ],
   "source": [
    "len(predictions)"
   ]
  },
  {
   "cell_type": "code",
   "execution_count": 65,
   "metadata": {},
   "outputs": [
    {
     "data": {
      "text/plain": [
       "30"
      ]
     },
     "execution_count": 65,
     "metadata": {},
     "output_type": "execute_result"
    }
   ],
   "source": [
    "len(predictions_res)"
   ]
  },
  {
   "cell_type": "code",
   "execution_count": 66,
   "metadata": {},
   "outputs": [
    {
     "data": {
      "text/plain": [
       "34.44789800838541"
      ]
     },
     "execution_count": 66,
     "metadata": {},
     "output_type": "execute_result"
    }
   ],
   "source": [
    "forecast = predictions + history[-30:]\n",
    "\n",
    "rmse(test['Total Inpatient Beds'],forecast)"
   ]
  },
  {
   "cell_type": "code",
   "execution_count": 67,
   "metadata": {},
   "outputs": [
    {
     "data": {
      "image/png": "[encoded data removed]",
      "text/plain": [
       "<Figure size 864x432 with 1 Axes>"
      ]
     },
     "metadata": {
      "needs_background": "light"
     },
     "output_type": "display_data"
    }
   ],
   "source": [
    "test['Total Inpatient Beds'].plot(legend=True);\n",
    "forecast.plot(figsize=(12,6),legend=True);"
   ]
  },
  {
   "cell_type": "code",
   "execution_count": null,
   "metadata": {},
   "outputs": [],
   "source": []
  },
  {
   "cell_type": "code",
   "execution_count": null,
   "metadata": {},
   "outputs": [],
   "source": []
  },
  {
   "cell_type": "markdown",
   "metadata": {},
   "source": [
    "### After Removing Outlier"
   ]
  },
  {
   "cell_type": "code",
   "execution_count": 46,
   "metadata": {},
   "outputs": [
    {
     "data": {
      "text/plain": [
       "<AxesSubplot:xlabel='Total Inpatient Beds'>"
      ]
     },
     "execution_count": 46,
     "metadata": {},
     "output_type": "execute_result"
    },
    {
     "data": {
      "image/png": "[encoded data removed]",
      "text/plain": [
       "<Figure size 432x288 with 1 Axes>"
      ]
     },
     "metadata": {
      "needs_background": "light"
     },
     "output_type": "display_data"
    }
   ],
   "source": [
    "sns.boxplot(train['Total Inpatient Beds'])"
   ]
  },
  {
   "cell_type": "code",
   "execution_count": 47,
   "metadata": {},
   "outputs": [
    {
     "data": {
      "text/plain": [
       "<AxesSubplot:xlabel='Total Inpatient Beds'>"
      ]
     },
     "execution_count": 47,
     "metadata": {},
     "output_type": "execute_result"
    },
    {
     "data": {
      "image/png": "[encoded data removed]",
      "text/plain": [
       "<Figure size 432x288 with 1 Axes>"
      ]
     },
     "metadata": {
      "needs_background": "light"
     },
     "output_type": "display_data"
    }
   ],
   "source": [
    "sns.boxplot(test['Total Inpatient Beds'])"
   ]
  },
  {
   "cell_type": "code",
   "execution_count": 48,
   "metadata": {},
   "outputs": [
    {
     "data": {
      "text/plain": [
       "<AxesSubplot:xlabel='Total Inpatient Beds'>"
      ]
     },
     "execution_count": 48,
     "metadata": {},
     "output_type": "execute_result"
    },
    {
     "data": {
      "image/png": "[encoded data removed]",
      "text/plain": [
       "<Figure size 432x288 with 1 Axes>"
      ]
     },
     "metadata": {
      "needs_background": "light"
     },
     "output_type": "display_data"
    }
   ],
   "source": [
    "sns.boxplot(df['Total Inpatient Beds'])"
   ]
  },
  {
   "cell_type": "code",
   "execution_count": null,
   "metadata": {},
   "outputs": [],
   "source": []
  },
  {
   "cell_type": "code",
   "execution_count": null,
   "metadata": {},
   "outputs": [],
   "source": []
  },
  {
   "cell_type": "code",
   "execution_count": null,
   "metadata": {},
   "outputs": [],
   "source": []
  },
  {
   "cell_type": "code",
   "execution_count": null,
   "metadata": {},
   "outputs": [],
   "source": []
  },
  {
   "cell_type": "markdown",
   "metadata": {},
   "source": [
    "### RNN"
   ]
  },
  {
   "cell_type": "markdown",
   "metadata": {
    "scrolled": true
   },
   "source": [
    "train = df[['Total Inpatient Beds']].head(346)\n",
    "test = df[['Total Inpatient Beds']].tail(30)"
   ]
  },
  {
   "cell_type": "code",
   "execution_count": 49,
   "metadata": {},
   "outputs": [
    {
     "data": {
      "text/html": [
       "<div>\n",
       "<style scoped>\n",
       "    .dataframe tbody tr th:only-of-type {\n",
       "        vertical-align: middle;\n",
       "    }\n",
       "\n",
       "    .dataframe tbody tr th {\n",
       "        vertical-align: top;\n",
       "    }\n",
       "\n",
       "    .dataframe thead th {\n",
       "        text-align: right;\n",
       "    }\n",
       "</style>\n",
       "<table border=\"1\" class=\"dataframe\">\n",
       "  <thead>\n",
       "    <tr style=\"text-align: right;\">\n",
       "      <th></th>\n",
       "      <th>Total Inpatient Beds</th>\n",
       "      <th>EWMA</th>\n",
       "      <th>Availability</th>\n",
       "    </tr>\n",
       "    <tr>\n",
       "      <th>collection_date</th>\n",
       "      <th></th>\n",
       "      <th></th>\n",
       "      <th></th>\n",
       "    </tr>\n",
       "  </thead>\n",
       "  <tbody>\n",
       "    <tr>\n",
       "      <th>2020-06-15</th>\n",
       "      <td>293.0</td>\n",
       "      <td>293.000000</td>\n",
       "      <td>607.0</td>\n",
       "    </tr>\n",
       "    <tr>\n",
       "      <th>2020-06-16</th>\n",
       "      <td>295.0</td>\n",
       "      <td>293.266667</td>\n",
       "      <td>605.0</td>\n",
       "    </tr>\n",
       "    <tr>\n",
       "      <th>2020-06-17</th>\n",
       "      <td>290.0</td>\n",
       "      <td>292.831111</td>\n",
       "      <td>610.0</td>\n",
       "    </tr>\n",
       "    <tr>\n",
       "      <th>2020-06-18</th>\n",
       "      <td>291.0</td>\n",
       "      <td>292.586963</td>\n",
       "      <td>609.0</td>\n",
       "    </tr>\n",
       "    <tr>\n",
       "      <th>2020-06-19</th>\n",
       "      <td>288.0</td>\n",
       "      <td>291.975368</td>\n",
       "      <td>612.0</td>\n",
       "    </tr>\n",
       "    <tr>\n",
       "      <th>...</th>\n",
       "      <td>...</td>\n",
       "      <td>...</td>\n",
       "      <td>...</td>\n",
       "    </tr>\n",
       "    <tr>\n",
       "      <th>2021-02-10</th>\n",
       "      <td>213.0</td>\n",
       "      <td>239.619443</td>\n",
       "      <td>687.0</td>\n",
       "    </tr>\n",
       "    <tr>\n",
       "      <th>2021-02-11</th>\n",
       "      <td>247.0</td>\n",
       "      <td>240.603517</td>\n",
       "      <td>653.0</td>\n",
       "    </tr>\n",
       "    <tr>\n",
       "      <th>2021-02-12</th>\n",
       "      <td>214.0</td>\n",
       "      <td>237.056381</td>\n",
       "      <td>686.0</td>\n",
       "    </tr>\n",
       "    <tr>\n",
       "      <th>2021-02-13</th>\n",
       "      <td>259.0</td>\n",
       "      <td>239.982197</td>\n",
       "      <td>641.0</td>\n",
       "    </tr>\n",
       "    <tr>\n",
       "      <th>2021-02-14</th>\n",
       "      <td>229.0</td>\n",
       "      <td>238.517904</td>\n",
       "      <td>671.0</td>\n",
       "    </tr>\n",
       "  </tbody>\n",
       "</table>\n",
       "<p>245 rows × 3 columns</p>\n",
       "</div>"
      ],
      "text/plain": [
       "                 Total Inpatient Beds        EWMA  Availability\n",
       "collection_date                                                \n",
       "2020-06-15                      293.0  293.000000         607.0\n",
       "2020-06-16                      295.0  293.266667         605.0\n",
       "2020-06-17                      290.0  292.831111         610.0\n",
       "2020-06-18                      291.0  292.586963         609.0\n",
       "2020-06-19                      288.0  291.975368         612.0\n",
       "...                               ...         ...           ...\n",
       "2021-02-10                      213.0  239.619443         687.0\n",
       "2021-02-11                      247.0  240.603517         653.0\n",
       "2021-02-12                      214.0  237.056381         686.0\n",
       "2021-02-13                      259.0  239.982197         641.0\n",
       "2021-02-14                      229.0  238.517904         671.0\n",
       "\n",
       "[245 rows x 3 columns]"
      ]
     },
     "execution_count": 49,
     "metadata": {},
     "output_type": "execute_result"
    }
   ],
   "source": [
    "train"
   ]
  },
  {
   "cell_type": "code",
   "execution_count": 50,
   "metadata": {},
   "outputs": [],
   "source": [
    "from sklearn.preprocessing import MinMaxScaler"
   ]
  },
  {
   "cell_type": "code",
   "execution_count": 56,
   "metadata": {},
   "outputs": [],
   "source": [
    "scaler= MinMaxScaler()"
   ]
  },
  {
   "cell_type": "code",
   "execution_count": 59,
   "metadata": {},
   "outputs": [],
   "source": [
    "new_train = train[['Total Inpatient Beds']]\n",
    "new_test = test[['Total Inpatient Beds']]"
   ]
  },
  {
   "cell_type": "code",
   "execution_count": 61,
   "metadata": {},
   "outputs": [],
   "source": [
    "scaled_train = scaler.fit_transform(new_train)\n",
    "scaled_test = scaler.transform(new_test)"
   ]
  },
  {
   "cell_type": "code",
   "execution_count": 62,
   "metadata": {},
   "outputs": [],
   "source": [
    "from keras.preprocessing.sequence import TimeseriesGenerator"
   ]
  },
  {
   "cell_type": "code",
   "execution_count": 63,
   "metadata": {},
   "outputs": [],
   "source": [
    "n_input = 7\n",
    "n_features = 1\n",
    "generator = TimeseriesGenerator(scaled_train, scaled_train, length=n_input, batch_size=1)"
   ]
  },
  {
   "cell_type": "code",
   "execution_count": 64,
   "metadata": {
    "scrolled": true
   },
   "outputs": [
    {
     "data": {
      "text/plain": [
       "238"
      ]
     },
     "execution_count": 64,
     "metadata": {},
     "output_type": "execute_result"
    }
   ],
   "source": [
    "len(generator)"
   ]
  },
  {
   "cell_type": "code",
   "execution_count": 65,
   "metadata": {},
   "outputs": [],
   "source": [
    "X,y = generator[0]"
   ]
  },
  {
   "cell_type": "code",
   "execution_count": 66,
   "metadata": {
    "scrolled": true
   },
   "outputs": [
    {
     "data": {
      "text/plain": [
       "array([[0.67785235],\n",
       "       [0.69127517],\n",
       "       [0.65771812],\n",
       "       [0.66442953],\n",
       "       [0.6442953 ],\n",
       "       [0.65100671],\n",
       "       [0.5704698 ],\n",
       "       [0.65100671],\n",
       "       [0.67114094],\n",
       "       [0.67785235],\n",
       "       [0.66442953],\n",
       "       [0.60402685],\n",
       "       [0.61073826],\n",
       "       [0.61744966],\n",
       "       [0.01342282],\n",
       "       [0.67114094],\n",
       "       [0.55704698],\n",
       "       [0.65771812],\n",
       "       [0.63758389],\n",
       "       [0.61073826],\n",
       "       [0.60402685],\n",
       "       [0.61744966],\n",
       "       [0.66442953],\n",
       "       [0.67114094],\n",
       "       [0.68456376],\n",
       "       [0.63758389],\n",
       "       [0.61744966],\n",
       "       [0.60402685],\n",
       "       [0.67114094],\n",
       "       [0.67114094],\n",
       "       [0.66442953],\n",
       "       [1.        ],\n",
       "       [0.28187919],\n",
       "       [0.2885906 ],\n",
       "       [0.41610738],\n",
       "       [0.44966443],\n",
       "       [0.51677852],\n",
       "       [0.5704698 ],\n",
       "       [0.53691275],\n",
       "       [0.55033557],\n",
       "       [0.06711409],\n",
       "       [0.18120805],\n",
       "       [0.26845638],\n",
       "       [0.10067114],\n",
       "       [0.1409396 ],\n",
       "       [0.24161074],\n",
       "       [0.13422819],\n",
       "       [0.23489933],\n",
       "       [0.15436242],\n",
       "       [0.67114094],\n",
       "       [0.14765101],\n",
       "       [0.38255034],\n",
       "       [0.6442953 ],\n",
       "       [0.23489933],\n",
       "       [0.11409396],\n",
       "       [0.57718121],\n",
       "       [0.33557047],\n",
       "       [0.39597315],\n",
       "       [0.1409396 ],\n",
       "       [0.10067114],\n",
       "       [0.14765101],\n",
       "       [0.30201342],\n",
       "       [0.58389262],\n",
       "       [0.10067114],\n",
       "       [0.53691275],\n",
       "       [0.54362416],\n",
       "       [0.60402685],\n",
       "       [0.37583893],\n",
       "       [0.18791946],\n",
       "       [0.57718121],\n",
       "       [0.40268456],\n",
       "       [0.04697987],\n",
       "       [0.1409396 ],\n",
       "       [0.10067114],\n",
       "       [0.61744966],\n",
       "       [0.71812081],\n",
       "       [0.66442953],\n",
       "       [0.67114094],\n",
       "       [0.60402685],\n",
       "       [0.23489933],\n",
       "       [0.02013423],\n",
       "       [0.40268456],\n",
       "       [0.39597315],\n",
       "       [0.18120805],\n",
       "       [0.26845638],\n",
       "       [0.30201342],\n",
       "       [0.27516779],\n",
       "       [0.24161074],\n",
       "       [0.13422819],\n",
       "       [0.23489933],\n",
       "       [0.20134228],\n",
       "       [0.26845638],\n",
       "       [0.40268456],\n",
       "       [0.18120805],\n",
       "       [0.2147651 ],\n",
       "       [0.23489933],\n",
       "       [0.27516779],\n",
       "       [0.24161074],\n",
       "       [0.13422819],\n",
       "       [0.43624161],\n",
       "       [0.18120805],\n",
       "       [0.2885906 ],\n",
       "       [0.00671141],\n",
       "       [0.24832215],\n",
       "       [0.53691275],\n",
       "       [0.18791946],\n",
       "       [0.44966443],\n",
       "       [0.33557047],\n",
       "       [0.44295302],\n",
       "       [0.19463087],\n",
       "       [0.1409396 ],\n",
       "       [0.5704698 ],\n",
       "       [0.34899329],\n",
       "       [0.44966443],\n",
       "       [0.31543624],\n",
       "       [0.36912752],\n",
       "       [0.60402685],\n",
       "       [0.40268456],\n",
       "       [0.39597315],\n",
       "       [0.18120805],\n",
       "       [0.33557047],\n",
       "       [0.43624161],\n",
       "       [0.27516779],\n",
       "       [0.24161074],\n",
       "       [0.13422819],\n",
       "       [0.17449664],\n",
       "       [0.1409396 ],\n",
       "       [0.1409396 ],\n",
       "       [0.53691275],\n",
       "       [0.38255034],\n",
       "       [0.26845638],\n",
       "       [0.18791946],\n",
       "       [0.24832215],\n",
       "       [0.26845638],\n",
       "       [0.43624161],\n",
       "       [0.12751678],\n",
       "       [0.1409396 ],\n",
       "       [0.30201342],\n",
       "       [0.14765101],\n",
       "       [0.44966443],\n",
       "       [0.18120805],\n",
       "       [0.23489933],\n",
       "       [0.26845638],\n",
       "       [0.12751678],\n",
       "       [0.20134228],\n",
       "       [0.14765101],\n",
       "       [0.30201342],\n",
       "       [0.38255034],\n",
       "       [0.2885906 ],\n",
       "       [0.08724832],\n",
       "       [0.08053691],\n",
       "       [0.25503356],\n",
       "       [0.15436242],\n",
       "       [0.18120805],\n",
       "       [0.20805369],\n",
       "       [0.61073826],\n",
       "       [0.2147651 ],\n",
       "       [0.55704698],\n",
       "       [0.26174497],\n",
       "       [0.24832215],\n",
       "       [0.26845638],\n",
       "       [0.40268456],\n",
       "       [0.39597315],\n",
       "       [0.1409396 ],\n",
       "       [0.28920347],\n",
       "       [0.28920347],\n",
       "       [0.28920347],\n",
       "       [0.28920347],\n",
       "       [0.10067114],\n",
       "       [0.40268456],\n",
       "       [0.12080537],\n",
       "       [0.57718121],\n",
       "       [0.18120805],\n",
       "       [0.26845638],\n",
       "       [0.43624161],\n",
       "       [0.27516779],\n",
       "       [0.24161074],\n",
       "       [0.13422819],\n",
       "       [0.10067114],\n",
       "       [0.40268456],\n",
       "       [0.12080537],\n",
       "       [0.57718121],\n",
       "       [0.41610738],\n",
       "       [0.53691275],\n",
       "       [0.57718121],\n",
       "       [0.43624161],\n",
       "       [0.3557047 ],\n",
       "       [0.37583893],\n",
       "       [0.13422819],\n",
       "       [0.36912752],\n",
       "       [0.14765101],\n",
       "       [0.42281879],\n",
       "       [0.55704698],\n",
       "       [0.40268456],\n",
       "       [0.38255034],\n",
       "       [0.6442953 ],\n",
       "       [0.23489933],\n",
       "       [0.11409396],\n",
       "       [0.57718121],\n",
       "       [0.33557047],\n",
       "       [0.39597315],\n",
       "       [0.1409396 ],\n",
       "       [0.10067114],\n",
       "       [0.14765101],\n",
       "       [0.30201342],\n",
       "       [0.38255034],\n",
       "       [0.2885906 ],\n",
       "       [0.08724832],\n",
       "       [0.08053691],\n",
       "       [0.65771812],\n",
       "       [0.67114094],\n",
       "       [0.69127517],\n",
       "       [0.65771812],\n",
       "       [0.40268456],\n",
       "       [0.04697987],\n",
       "       [0.20134228],\n",
       "       [0.39597315],\n",
       "       [0.18120805],\n",
       "       [0.26845638],\n",
       "       [0.2885906 ],\n",
       "       [0.27516779],\n",
       "       [0.        ],\n",
       "       [0.0738255 ],\n",
       "       [0.65771812],\n",
       "       [0.20134228],\n",
       "       [0.27516779],\n",
       "       [0.40268456],\n",
       "       [0.42281879],\n",
       "       [0.30201342],\n",
       "       [0.63758389],\n",
       "       [0.18120805],\n",
       "       [0.20805369],\n",
       "       [0.61073826],\n",
       "       [0.2147651 ],\n",
       "       [0.55704698],\n",
       "       [0.26174497],\n",
       "       [0.24832215],\n",
       "       [0.26845638],\n",
       "       [0.40268456],\n",
       "       [0.39597315],\n",
       "       [0.1409396 ],\n",
       "       [0.36912752],\n",
       "       [0.14765101],\n",
       "       [0.44966443],\n",
       "       [0.24832215]])"
      ]
     },
     "execution_count": 66,
     "metadata": {},
     "output_type": "execute_result"
    }
   ],
   "source": [
    "scaled_train"
   ]
  },
  {
   "cell_type": "code",
   "execution_count": 67,
   "metadata": {},
   "outputs": [
    {
     "data": {
      "text/plain": [
       "array([[[0.67785235],\n",
       "        [0.69127517],\n",
       "        [0.65771812],\n",
       "        [0.66442953],\n",
       "        [0.6442953 ],\n",
       "        [0.65100671],\n",
       "        [0.5704698 ]]])"
      ]
     },
     "execution_count": 67,
     "metadata": {},
     "output_type": "execute_result"
    }
   ],
   "source": [
    "X"
   ]
  },
  {
   "cell_type": "code",
   "execution_count": 68,
   "metadata": {},
   "outputs": [
    {
     "data": {
      "text/plain": [
       "array([[0.65100671]])"
      ]
     },
     "execution_count": 68,
     "metadata": {},
     "output_type": "execute_result"
    }
   ],
   "source": [
    "y"
   ]
  },
  {
   "cell_type": "code",
   "execution_count": 69,
   "metadata": {},
   "outputs": [],
   "source": [
    "from keras.models import Sequential\n",
    "from keras.layers import Dense\n",
    "from keras.layers import LSTM"
   ]
  },
  {
   "cell_type": "code",
   "execution_count": 70,
   "metadata": {},
   "outputs": [],
   "source": [
    "n_input = 7\n",
    "n_features = 1\n",
    "generator = TimeseriesGenerator(scaled_train, scaled_train, length=n_input, batch_size=1)"
   ]
  },
  {
   "cell_type": "code",
   "execution_count": 71,
   "metadata": {},
   "outputs": [],
   "source": [
    "model = Sequential()\n",
    "model.add(LSTM(100, activation='relu', input_shape=(n_input, n_features)))\n",
    "model.add(Dense(36, activation='relu'))\n",
    "model.add(Dense(18, activation='relu'))\n",
    "model.add(Dense(9, activation='relu'))\n",
    "model.add(Dense(1))\n",
    "model.compile(optimizer='adam', loss='mse')"
   ]
  },
  {
   "cell_type": "code",
   "execution_count": 72,
   "metadata": {
    "scrolled": true
   },
   "outputs": [
    {
     "name": "stdout",
     "output_type": "stream",
     "text": [
      "Epoch 1/20\n",
      "238/238 [==============================] - 46s 7ms/step - loss: 0.0543\n",
      "Epoch 2/20\n",
      "238/238 [==============================] - 1s 6ms/step - loss: 0.0285\n",
      "Epoch 3/20\n",
      "238/238 [==============================] - 2s 7ms/step - loss: 0.0350\n",
      "Epoch 4/20\n",
      "238/238 [==============================] - 1s 6ms/step - loss: 0.0334\n",
      "Epoch 5/20\n",
      "238/238 [==============================] - 1s 6ms/step - loss: 0.0313\n",
      "Epoch 6/20\n",
      "238/238 [==============================] - 1s 6ms/step - loss: 0.0334\n",
      "Epoch 7/20\n",
      "238/238 [==============================] - 1s 6ms/step - loss: 0.0323\n",
      "Epoch 8/20\n",
      "238/238 [==============================] - 2s 6ms/step - loss: 0.0387\n",
      "Epoch 9/20\n",
      "238/238 [==============================] - 1s 6ms/step - loss: 0.0303\n",
      "Epoch 10/20\n",
      "238/238 [==============================] - 1s 6ms/step - loss: 0.0309\n",
      "Epoch 11/20\n",
      "238/238 [==============================] - 1s 6ms/step - loss: 0.0364\n",
      "Epoch 12/20\n",
      "238/238 [==============================] - 1s 6ms/step - loss: 0.0308\n",
      "Epoch 13/20\n",
      "238/238 [==============================] - 1s 6ms/step - loss: 0.0282\n",
      "Epoch 14/20\n",
      "238/238 [==============================] - 1s 6ms/step - loss: 0.0322\n",
      "Epoch 15/20\n",
      "238/238 [==============================] - 1s 6ms/step - loss: 0.0343\n",
      "Epoch 16/20\n",
      "238/238 [==============================] - 1s 6ms/step - loss: 0.0346\n",
      "Epoch 17/20\n",
      "238/238 [==============================] - 1s 6ms/step - loss: 0.0294\n",
      "Epoch 18/20\n",
      "238/238 [==============================] - 1s 6ms/step - loss: 0.0262\n",
      "Epoch 19/20\n",
      "238/238 [==============================] - 1s 6ms/step - loss: 0.0266\n",
      "Epoch 20/20\n",
      "238/238 [==============================] - 2s 7ms/step - loss: 0.0276\n"
     ]
    },
    {
     "data": {
      "text/plain": [
       "<keras.callbacks.History at 0x21ae5663a90>"
      ]
     },
     "execution_count": 72,
     "metadata": {},
     "output_type": "execute_result"
    }
   ],
   "source": [
    "model.fit_generator(generator,epochs=20)"
   ]
  },
  {
   "cell_type": "code",
   "execution_count": 73,
   "metadata": {
    "scrolled": true
   },
   "outputs": [
    {
     "data": {
      "text/plain": [
       "[<matplotlib.lines.Line2D at 0x21ae7c265b0>]"
      ]
     },
     "execution_count": 73,
     "metadata": {},
     "output_type": "execute_result"
    },
    {
     "data": {
      "image/png": "[encoded data removed]",
      "text/plain": [
       "<Figure size 432x288 with 1 Axes>"
      ]
     },
     "metadata": {
      "needs_background": "light"
     },
     "output_type": "display_data"
    }
   ],
   "source": [
    "loss_per_epoch = model.history.history['loss']\n",
    "plt.plot(range(len(loss_per_epoch)),loss_per_epoch)"
   ]
  },
  {
   "cell_type": "code",
   "execution_count": 74,
   "metadata": {},
   "outputs": [],
   "source": [
    "test_predictions = []\n",
    "\n",
    "first_eval_batch = scaled_train[-n_input:]\n",
    "current_batch = first_eval_batch.reshape((1, n_input, n_features))\n",
    "\n",
    "for i in range(len(test)):\n",
    "    \n",
    "    # get prediction 1 time stamp ahead ([0] is for grabbing just the number instead of [array])\n",
    "    current_pred = model.predict(current_batch)[0]\n",
    "    \n",
    "    # store prediction\n",
    "    test_predictions.append(current_pred) \n",
    "    \n",
    "    # update batch to now include prediction and drop first value\n",
    "    current_batch = np.append(current_batch[:,1:,:],[[current_pred]],axis=1)"
   ]
  },
  {
   "cell_type": "code",
   "execution_count": 75,
   "metadata": {
    "scrolled": true
   },
   "outputs": [
    {
     "data": {
      "text/plain": [
       "(1, 7, 1)"
      ]
     },
     "execution_count": 75,
     "metadata": {},
     "output_type": "execute_result"
    }
   ],
   "source": [
    "current_batch.shape"
   ]
  },
  {
   "cell_type": "code",
   "execution_count": 76,
   "metadata": {
    "scrolled": true
   },
   "outputs": [
    {
     "data": {
      "text/plain": [
       "array([[0.40268456],\n",
       "       [0.39597315],\n",
       "       [0.1409396 ],\n",
       "       [0.36912752],\n",
       "       [0.14765101],\n",
       "       [0.44966443],\n",
       "       [0.24832215]])"
      ]
     },
     "execution_count": 76,
     "metadata": {},
     "output_type": "execute_result"
    }
   ],
   "source": [
    "first_eval_batch"
   ]
  },
  {
   "cell_type": "code",
   "execution_count": 77,
   "metadata": {},
   "outputs": [],
   "source": [
    "true_predictions = scaler.inverse_transform(test_predictions)"
   ]
  },
  {
   "cell_type": "code",
   "execution_count": 78,
   "metadata": {
    "scrolled": true
   },
   "outputs": [
    {
     "data": {
      "text/plain": [
       "array([[228.4211188 ],\n",
       "       [227.77355619],\n",
       "       [227.30704574],\n",
       "       [226.89201677],\n",
       "       [226.70354223],\n",
       "       [226.4839972 ],\n",
       "       [226.27884841],\n",
       "       [226.28756076],\n",
       "       [226.29309146],\n",
       "       [226.29639301],\n",
       "       [226.29829356],\n",
       "       [226.2992727 ],\n",
       "       [226.29979447],\n",
       "       [226.29997653],\n",
       "       [226.29993212],\n",
       "       [226.2999077 ],\n",
       "       [226.2998966 ],\n",
       "       [226.29988994],\n",
       "       [226.29988994],\n",
       "       [226.29988994],\n",
       "       [226.29988994],\n",
       "       [226.29988994],\n",
       "       [226.29988994],\n",
       "       [226.29988994],\n",
       "       [226.29988994],\n",
       "       [226.29988994],\n",
       "       [226.29988994],\n",
       "       [226.29988994],\n",
       "       [226.29988994],\n",
       "       [226.29988994],\n",
       "       [226.29988994],\n",
       "       [226.29988994],\n",
       "       [226.29988994],\n",
       "       [226.29988994],\n",
       "       [226.29988994],\n",
       "       [226.29988994],\n",
       "       [226.29988994],\n",
       "       [226.29988994],\n",
       "       [226.29988994],\n",
       "       [226.29988994],\n",
       "       [226.29988994],\n",
       "       [226.29988994],\n",
       "       [226.29988994],\n",
       "       [226.29988994],\n",
       "       [226.29988994],\n",
       "       [226.29988994],\n",
       "       [226.29988994],\n",
       "       [226.29988994],\n",
       "       [226.29988994],\n",
       "       [226.29988994],\n",
       "       [226.29988994],\n",
       "       [226.29988994],\n",
       "       [226.29988994],\n",
       "       [226.29988994],\n",
       "       [226.29988994],\n",
       "       [226.29988994],\n",
       "       [226.29988994],\n",
       "       [226.29988994],\n",
       "       [226.29988994],\n",
       "       [226.29988994],\n",
       "       [226.29988994],\n",
       "       [226.29988994],\n",
       "       [226.29988994],\n",
       "       [226.29988994],\n",
       "       [226.29988994],\n",
       "       [226.29988994],\n",
       "       [226.29988994],\n",
       "       [226.29988994],\n",
       "       [226.29988994],\n",
       "       [226.29988994],\n",
       "       [226.29988994],\n",
       "       [226.29988994],\n",
       "       [226.29988994],\n",
       "       [226.29988994],\n",
       "       [226.29988994],\n",
       "       [226.29988994],\n",
       "       [226.29988994],\n",
       "       [226.29988994],\n",
       "       [226.29988994],\n",
       "       [226.29988994],\n",
       "       [226.29988994],\n",
       "       [226.29988994],\n",
       "       [226.29988994],\n",
       "       [226.29988994],\n",
       "       [226.29988994],\n",
       "       [226.29988994],\n",
       "       [226.29988994],\n",
       "       [226.29988994],\n",
       "       [226.29988994],\n",
       "       [226.29988994],\n",
       "       [226.29988994],\n",
       "       [226.29988994],\n",
       "       [226.29988994],\n",
       "       [226.29988994],\n",
       "       [226.29988994],\n",
       "       [226.29988994],\n",
       "       [226.29988994],\n",
       "       [226.29988994],\n",
       "       [226.29988994],\n",
       "       [226.29988994],\n",
       "       [226.29988994],\n",
       "       [226.29988994],\n",
       "       [226.29988994],\n",
       "       [226.29988994],\n",
       "       [226.29988994],\n",
       "       [226.29988994],\n",
       "       [226.29988994],\n",
       "       [226.29988994],\n",
       "       [226.29988994],\n",
       "       [226.29988994],\n",
       "       [226.29988994],\n",
       "       [226.29988994],\n",
       "       [226.29988994],\n",
       "       [226.29988994],\n",
       "       [226.29988994],\n",
       "       [226.29988994],\n",
       "       [226.29988994],\n",
       "       [226.29988994],\n",
       "       [226.29988994],\n",
       "       [226.29988994],\n",
       "       [226.29988994]])"
      ]
     },
     "execution_count": 78,
     "metadata": {},
     "output_type": "execute_result"
    }
   ],
   "source": [
    "true_predictions"
   ]
  },
  {
   "cell_type": "code",
   "execution_count": 79,
   "metadata": {
    "scrolled": true
   },
   "outputs": [
    {
     "data": {
      "text/html": [
       "<div>\n",
       "<style scoped>\n",
       "    .dataframe tbody tr th:only-of-type {\n",
       "        vertical-align: middle;\n",
       "    }\n",
       "\n",
       "    .dataframe tbody tr th {\n",
       "        vertical-align: top;\n",
       "    }\n",
       "\n",
       "    .dataframe thead th {\n",
       "        text-align: right;\n",
       "    }\n",
       "</style>\n",
       "<table border=\"1\" class=\"dataframe\">\n",
       "  <thead>\n",
       "    <tr style=\"text-align: right;\">\n",
       "      <th></th>\n",
       "      <th>Total Inpatient Beds</th>\n",
       "      <th>EWMA</th>\n",
       "      <th>Availability</th>\n",
       "    </tr>\n",
       "    <tr>\n",
       "      <th>collection_date</th>\n",
       "      <th></th>\n",
       "      <th></th>\n",
       "      <th></th>\n",
       "    </tr>\n",
       "  </thead>\n",
       "  <tbody>\n",
       "    <tr>\n",
       "      <th>2021-02-15</th>\n",
       "      <td>247.0</td>\n",
       "      <td>239.648850</td>\n",
       "      <td>653.0</td>\n",
       "    </tr>\n",
       "    <tr>\n",
       "      <th>2021-02-16</th>\n",
       "      <td>252.0</td>\n",
       "      <td>241.295670</td>\n",
       "      <td>648.0</td>\n",
       "    </tr>\n",
       "    <tr>\n",
       "      <th>2021-02-17</th>\n",
       "      <td>222.0</td>\n",
       "      <td>238.722914</td>\n",
       "      <td>678.0</td>\n",
       "    </tr>\n",
       "    <tr>\n",
       "      <th>2021-02-18</th>\n",
       "      <td>252.0</td>\n",
       "      <td>240.493192</td>\n",
       "      <td>648.0</td>\n",
       "    </tr>\n",
       "    <tr>\n",
       "      <th>2021-02-19</th>\n",
       "      <td>219.0</td>\n",
       "      <td>237.627433</td>\n",
       "      <td>681.0</td>\n",
       "    </tr>\n",
       "    <tr>\n",
       "      <th>...</th>\n",
       "      <td>...</td>\n",
       "      <td>...</td>\n",
       "      <td>...</td>\n",
       "    </tr>\n",
       "    <tr>\n",
       "      <th>2021-06-11</th>\n",
       "      <td>312.0</td>\n",
       "      <td>242.048207</td>\n",
       "      <td>588.0</td>\n",
       "    </tr>\n",
       "    <tr>\n",
       "      <th>2021-06-12</th>\n",
       "      <td>212.0</td>\n",
       "      <td>238.041779</td>\n",
       "      <td>688.0</td>\n",
       "    </tr>\n",
       "    <tr>\n",
       "      <th>2021-06-13</th>\n",
       "      <td>299.0</td>\n",
       "      <td>246.169542</td>\n",
       "      <td>601.0</td>\n",
       "    </tr>\n",
       "    <tr>\n",
       "      <th>2021-06-14</th>\n",
       "      <td>202.0</td>\n",
       "      <td>240.280270</td>\n",
       "      <td>698.0</td>\n",
       "    </tr>\n",
       "    <tr>\n",
       "      <th>2021-06-15</th>\n",
       "      <td>220.0</td>\n",
       "      <td>237.576234</td>\n",
       "      <td>680.0</td>\n",
       "    </tr>\n",
       "  </tbody>\n",
       "</table>\n",
       "<p>121 rows × 3 columns</p>\n",
       "</div>"
      ],
      "text/plain": [
       "                 Total Inpatient Beds        EWMA  Availability\n",
       "collection_date                                                \n",
       "2021-02-15                      247.0  239.648850         653.0\n",
       "2021-02-16                      252.0  241.295670         648.0\n",
       "2021-02-17                      222.0  238.722914         678.0\n",
       "2021-02-18                      252.0  240.493192         648.0\n",
       "2021-02-19                      219.0  237.627433         681.0\n",
       "...                               ...         ...           ...\n",
       "2021-06-11                      312.0  242.048207         588.0\n",
       "2021-06-12                      212.0  238.041779         688.0\n",
       "2021-06-13                      299.0  246.169542         601.0\n",
       "2021-06-14                      202.0  240.280270         698.0\n",
       "2021-06-15                      220.0  237.576234         680.0\n",
       "\n",
       "[121 rows x 3 columns]"
      ]
     },
     "execution_count": 79,
     "metadata": {},
     "output_type": "execute_result"
    }
   ],
   "source": [
    "test"
   ]
  },
  {
   "cell_type": "code",
   "execution_count": 80,
   "metadata": {},
   "outputs": [
    {
     "data": {
      "text/plain": [
       "121"
      ]
     },
     "execution_count": 80,
     "metadata": {},
     "output_type": "execute_result"
    }
   ],
   "source": [
    "len(true_predictions)"
   ]
  },
  {
   "cell_type": "code",
   "execution_count": 429,
   "metadata": {},
   "outputs": [],
   "source": [
    "test_tmp = test['Total Inpatient Beds']"
   ]
  },
  {
   "cell_type": "code",
   "execution_count": 82,
   "metadata": {
    "scrolled": true
   },
   "outputs": [
    {
     "data": {
      "text/plain": [
       "27.382465457779716"
      ]
     },
     "execution_count": 82,
     "metadata": {},
     "output_type": "execute_result"
    }
   ],
   "source": [
    "rmse(test,true_predictions)[0]"
   ]
  },
  {
   "cell_type": "code",
   "execution_count": 92,
   "metadata": {},
   "outputs": [],
   "source": [
    "test['Predictions_rnn'] = true_predictions[:,0] + history[-121:]"
   ]
  },
  {
   "cell_type": "code",
   "execution_count": 95,
   "metadata": {},
   "outputs": [
    {
     "data": {
      "text/html": [
       "<div>\n",
       "<style scoped>\n",
       "    .dataframe tbody tr th:only-of-type {\n",
       "        vertical-align: middle;\n",
       "    }\n",
       "\n",
       "    .dataframe tbody tr th {\n",
       "        vertical-align: top;\n",
       "    }\n",
       "\n",
       "    .dataframe thead th {\n",
       "        text-align: right;\n",
       "    }\n",
       "</style>\n",
       "<table border=\"1\" class=\"dataframe\">\n",
       "  <thead>\n",
       "    <tr style=\"text-align: right;\">\n",
       "      <th></th>\n",
       "      <th>Total Inpatient Beds</th>\n",
       "      <th>EWMA</th>\n",
       "      <th>Availability</th>\n",
       "      <th>Predictions_rnn</th>\n",
       "    </tr>\n",
       "    <tr>\n",
       "      <th>collection_date</th>\n",
       "      <th></th>\n",
       "      <th></th>\n",
       "      <th></th>\n",
       "      <th></th>\n",
       "    </tr>\n",
       "  </thead>\n",
       "  <tbody>\n",
       "    <tr>\n",
       "      <th>2021-04-06</th>\n",
       "      <td>259.0</td>\n",
       "      <td>229.253313</td>\n",
       "      <td>641.0</td>\n",
       "      <td>271.29989</td>\n",
       "    </tr>\n",
       "    <tr>\n",
       "      <th>2021-04-07</th>\n",
       "      <td>190.0</td>\n",
       "      <td>224.019538</td>\n",
       "      <td>710.0</td>\n",
       "      <td>157.29989</td>\n",
       "    </tr>\n",
       "    <tr>\n",
       "      <th>2021-04-08</th>\n",
       "      <td>253.0</td>\n",
       "      <td>227.883600</td>\n",
       "      <td>647.0</td>\n",
       "      <td>289.29989</td>\n",
       "    </tr>\n",
       "    <tr>\n",
       "      <th>2021-04-09</th>\n",
       "      <td>228.0</td>\n",
       "      <td>227.899120</td>\n",
       "      <td>672.0</td>\n",
       "      <td>201.29989</td>\n",
       "    </tr>\n",
       "    <tr>\n",
       "      <th>2021-04-10</th>\n",
       "      <td>249.0</td>\n",
       "      <td>230.712570</td>\n",
       "      <td>651.0</td>\n",
       "      <td>247.29989</td>\n",
       "    </tr>\n",
       "    <tr>\n",
       "      <th>2021-04-11</th>\n",
       "      <td>232.0</td>\n",
       "      <td>230.884228</td>\n",
       "      <td>668.0</td>\n",
       "      <td>209.29989</td>\n",
       "    </tr>\n",
       "    <tr>\n",
       "      <th>2021-04-12</th>\n",
       "      <td>220.0</td>\n",
       "      <td>229.432997</td>\n",
       "      <td>680.0</td>\n",
       "      <td>214.29989</td>\n",
       "    </tr>\n",
       "    <tr>\n",
       "      <th>2021-04-13</th>\n",
       "      <td>225.0</td>\n",
       "      <td>228.841931</td>\n",
       "      <td>675.0</td>\n",
       "      <td>231.29989</td>\n",
       "    </tr>\n",
       "    <tr>\n",
       "      <th>2021-04-14</th>\n",
       "      <td>207.0</td>\n",
       "      <td>225.929674</td>\n",
       "      <td>693.0</td>\n",
       "      <td>208.29989</td>\n",
       "    </tr>\n",
       "    <tr>\n",
       "      <th>2021-04-15</th>\n",
       "      <td>260.0</td>\n",
       "      <td>230.472384</td>\n",
       "      <td>640.0</td>\n",
       "      <td>279.29989</td>\n",
       "    </tr>\n",
       "  </tbody>\n",
       "</table>\n",
       "</div>"
      ],
      "text/plain": [
       "                 Total Inpatient Beds        EWMA  Availability  \\\n",
       "collection_date                                                   \n",
       "2021-04-06                      259.0  229.253313         641.0   \n",
       "2021-04-07                      190.0  224.019538         710.0   \n",
       "2021-04-08                      253.0  227.883600         647.0   \n",
       "2021-04-09                      228.0  227.899120         672.0   \n",
       "2021-04-10                      249.0  230.712570         651.0   \n",
       "2021-04-11                      232.0  230.884228         668.0   \n",
       "2021-04-12                      220.0  229.432997         680.0   \n",
       "2021-04-13                      225.0  228.841931         675.0   \n",
       "2021-04-14                      207.0  225.929674         693.0   \n",
       "2021-04-15                      260.0  230.472384         640.0   \n",
       "\n",
       "                 Predictions_rnn  \n",
       "collection_date                   \n",
       "2021-04-06             271.29989  \n",
       "2021-04-07             157.29989  \n",
       "2021-04-08             289.29989  \n",
       "2021-04-09             201.29989  \n",
       "2021-04-10             247.29989  \n",
       "2021-04-11             209.29989  \n",
       "2021-04-12             214.29989  \n",
       "2021-04-13             231.29989  \n",
       "2021-04-14             208.29989  \n",
       "2021-04-15             279.29989  "
      ]
     },
     "execution_count": 95,
     "metadata": {},
     "output_type": "execute_result"
    }
   ],
   "source": [
    "test[50:60]"
   ]
  },
  {
   "cell_type": "code",
   "execution_count": 93,
   "metadata": {
    "scrolled": false
   },
   "outputs": [
    {
     "data": {
      "image/png": "[encoded data removed]",
      "text/plain": [
       "<Figure size 864x432 with 1 Axes>"
      ]
     },
     "metadata": {
      "needs_background": "light"
     },
     "output_type": "display_data"
    }
   ],
   "source": [
    "test['Total Inpatient Beds'].plot(legend=True)\n",
    "test['Predictions_rnn'].plot(figsize=(12,6),legend=True);"
   ]
  },
  {
   "cell_type": "code",
   "execution_count": 94,
   "metadata": {},
   "outputs": [
    {
     "data": {
      "text/plain": [
       "27.38422256346902"
      ]
     },
     "execution_count": 94,
     "metadata": {},
     "output_type": "execute_result"
    }
   ],
   "source": [
    "rmse(test['Total Inpatient Beds'],test['Predictions_rnn'])"
   ]
  },
  {
   "cell_type": "code",
   "execution_count": 434,
   "metadata": {},
   "outputs": [],
   "source": [
    "def mean_absolute_percentage_error(y_true, y_pred): \n",
    "    y_true, y_pred = np.array(y_true), np.array(y_pred)\n",
    "    return np.mean(np.abs((y_true - y_pred) / y_true)) * 100"
   ]
  },
  {
   "cell_type": "code",
   "execution_count": 435,
   "metadata": {},
   "outputs": [
    {
     "data": {
      "text/plain": [
       "12.032839146393183"
      ]
     },
     "execution_count": 435,
     "metadata": {},
     "output_type": "execute_result"
    }
   ],
   "source": [
    "mean_absolute_percentage_error(test['Total Inpatient Beds'],test['Predictions'])"
   ]
  },
  {
   "cell_type": "code",
   "execution_count": 436,
   "metadata": {
    "scrolled": true
   },
   "outputs": [
    {
     "data": {
      "text/plain": [
       "<AxesSubplot:xlabel='Total Inpatient Beds'>"
      ]
     },
     "execution_count": 436,
     "metadata": {},
     "output_type": "execute_result"
    },
    {
     "data": {
      "image/png": "[encoded data removed]",
      "text/plain": [
       "<Figure size 432x288 with 1 Axes>"
      ]
     },
     "metadata": {
      "needs_background": "light"
     },
     "output_type": "display_data"
    }
   ],
   "source": [
    "sns.boxplot(train['Total Inpatient Beds'])"
   ]
  }
 ],
 "metadata": {
  "kernelspec": {
   "display_name": "Python 3",
   "language": "python",
   "name": "python3"
  },
  "language_info": {
   "codemirror_mode": {
    "name": "ipython",
    "version": 3
   },
   "file_extension": ".py",
   "mimetype": "text/x-python",
   "name": "python",
   "nbconvert_exporter": "python",
   "pygments_lexer": "ipython3",
   "version": "3.8.8"
  }
 },
 "nbformat": 4,
 "nbformat_minor": 4
}
